{
  "cells": [
    {
      "cell_type": "markdown",
      "metadata": {
        "id": "1EKUvtpH0NOX"
      },
      "source": [
        "# Loading the Dropout Data"
      ]
    },
    {
      "cell_type": "markdown",
      "metadata": {
        "id": "wlyv3YKfPM_0"
      },
      "source": [
        "### Importing Academic Success Dataset from Kaggle"
      ]
    },
    {
      "cell_type": "code",
      "execution_count": 1,
      "metadata": {
        "colab": {
          "base_uri": "https://localhost:8080/"
        },
        "id": "NPpVK5tL_JKw",
        "outputId": "98bc6d16-0ab0-490d-bca1-c6eaeb9a247d"
      },
      "outputs": [
        {
          "name": "stdout",
          "output_type": "stream",
          "text": [
            "Requirement already satisfied: kaggle in c:\\users\\atlasuser\\appdata\\local\\programs\\python\\python311\\lib\\site-packages (1.6.14)\n",
            "Requirement already satisfied: scikit-learn in c:\\users\\atlasuser\\appdata\\local\\programs\\python\\python311\\lib\\site-packages (1.5.0)\n",
            "Requirement already satisfied: xgboost in c:\\users\\atlasuser\\appdata\\local\\programs\\python\\python311\\lib\\site-packages (2.0.3)\n",
            "Requirement already satisfied: streamlit in c:\\users\\atlasuser\\appdata\\local\\programs\\python\\python311\\lib\\site-packages (1.35.0)\n",
            "Note: you may need to restart the kernel to use updated packages.\n"
          ]
        },
        {
          "name": "stderr",
          "output_type": "stream",
          "text": [
            "ERROR: Could not find a version that satisfies the requirement pickle (from versions: none)\n",
            "ERROR: No matching distribution found for pickle\n",
            "\n",
            "[notice] A new release of pip is available: 23.1.2 -> 24.0\n",
            "[notice] To update, run: python.exe -m pip install --upgrade pip\n"
          ]
        }
      ],
      "source": [
        "pip install kaggle scikit-learn xgboost streamlit pickle"
      ]
    },
    {
      "cell_type": "markdown",
      "metadata": {
        "id": "yrspsHZDOy7n"
      },
      "source": [
        "### Importing Fundemental Libraries"
      ]
    },
    {
      "cell_type": "code",
      "execution_count": 2,
      "metadata": {
        "id": "_aiG9K8ROsUt"
      },
      "outputs": [],
      "source": [
        "import numpy as np\n",
        "import pandas as pd\n",
        "import matplotlib.pyplot as plt\n",
        "import sklearn"
      ]
    },
    {
      "cell_type": "markdown",
      "metadata": {
        "id": "gUKp2RV5PWrn"
      },
      "source": [
        "### Splitting Dataset"
      ]
    },
    {
      "cell_type": "code",
      "execution_count": 3,
      "metadata": {
        "colab": {
          "base_uri": "https://localhost:8080/",
          "height": 308
        },
        "id": "gQ4lhKfWAl0P",
        "outputId": "843cf3f8-efd3-461c-a96d-f065217f364a"
      },
      "outputs": [
        {
          "data": {
            "text/html": [
              "<div>\n",
              "<style scoped>\n",
              "    .dataframe tbody tr th:only-of-type {\n",
              "        vertical-align: middle;\n",
              "    }\n",
              "\n",
              "    .dataframe tbody tr th {\n",
              "        vertical-align: top;\n",
              "    }\n",
              "\n",
              "    .dataframe thead th {\n",
              "        text-align: right;\n",
              "    }\n",
              "</style>\n",
              "<table border=\"1\" class=\"dataframe\">\n",
              "  <thead>\n",
              "    <tr style=\"text-align: right;\">\n",
              "      <th></th>\n",
              "      <th>Marital status</th>\n",
              "      <th>Application mode</th>\n",
              "      <th>Application order</th>\n",
              "      <th>Course</th>\n",
              "      <th>Daytime/evening attendance</th>\n",
              "      <th>Previous qualification</th>\n",
              "      <th>Previous qualification (grade)</th>\n",
              "      <th>Nacionality</th>\n",
              "      <th>Mother's qualification</th>\n",
              "      <th>Father's qualification</th>\n",
              "      <th>...</th>\n",
              "      <th>Curricular units 2nd sem (credited)</th>\n",
              "      <th>Curricular units 2nd sem (enrolled)</th>\n",
              "      <th>Curricular units 2nd sem (evaluations)</th>\n",
              "      <th>Curricular units 2nd sem (approved)</th>\n",
              "      <th>Curricular units 2nd sem (grade)</th>\n",
              "      <th>Curricular units 2nd sem (without evaluations)</th>\n",
              "      <th>Unemployment rate</th>\n",
              "      <th>Inflation rate</th>\n",
              "      <th>GDP</th>\n",
              "      <th>Target</th>\n",
              "    </tr>\n",
              "  </thead>\n",
              "  <tbody>\n",
              "    <tr>\n",
              "      <th>0</th>\n",
              "      <td>1</td>\n",
              "      <td>17</td>\n",
              "      <td>5</td>\n",
              "      <td>171</td>\n",
              "      <td>1</td>\n",
              "      <td>1</td>\n",
              "      <td>122.0</td>\n",
              "      <td>1</td>\n",
              "      <td>19</td>\n",
              "      <td>12</td>\n",
              "      <td>...</td>\n",
              "      <td>0</td>\n",
              "      <td>0</td>\n",
              "      <td>0</td>\n",
              "      <td>0</td>\n",
              "      <td>0.000000</td>\n",
              "      <td>0</td>\n",
              "      <td>10.8</td>\n",
              "      <td>1.4</td>\n",
              "      <td>1.74</td>\n",
              "      <td>Dropout</td>\n",
              "    </tr>\n",
              "    <tr>\n",
              "      <th>1</th>\n",
              "      <td>1</td>\n",
              "      <td>15</td>\n",
              "      <td>1</td>\n",
              "      <td>9254</td>\n",
              "      <td>1</td>\n",
              "      <td>1</td>\n",
              "      <td>160.0</td>\n",
              "      <td>1</td>\n",
              "      <td>1</td>\n",
              "      <td>3</td>\n",
              "      <td>...</td>\n",
              "      <td>0</td>\n",
              "      <td>6</td>\n",
              "      <td>6</td>\n",
              "      <td>6</td>\n",
              "      <td>13.666667</td>\n",
              "      <td>0</td>\n",
              "      <td>13.9</td>\n",
              "      <td>-0.3</td>\n",
              "      <td>0.79</td>\n",
              "      <td>Graduate</td>\n",
              "    </tr>\n",
              "    <tr>\n",
              "      <th>2</th>\n",
              "      <td>1</td>\n",
              "      <td>1</td>\n",
              "      <td>5</td>\n",
              "      <td>9070</td>\n",
              "      <td>1</td>\n",
              "      <td>1</td>\n",
              "      <td>122.0</td>\n",
              "      <td>1</td>\n",
              "      <td>37</td>\n",
              "      <td>37</td>\n",
              "      <td>...</td>\n",
              "      <td>0</td>\n",
              "      <td>6</td>\n",
              "      <td>0</td>\n",
              "      <td>0</td>\n",
              "      <td>0.000000</td>\n",
              "      <td>0</td>\n",
              "      <td>10.8</td>\n",
              "      <td>1.4</td>\n",
              "      <td>1.74</td>\n",
              "      <td>Dropout</td>\n",
              "    </tr>\n",
              "    <tr>\n",
              "      <th>3</th>\n",
              "      <td>1</td>\n",
              "      <td>17</td>\n",
              "      <td>2</td>\n",
              "      <td>9773</td>\n",
              "      <td>1</td>\n",
              "      <td>1</td>\n",
              "      <td>122.0</td>\n",
              "      <td>1</td>\n",
              "      <td>38</td>\n",
              "      <td>37</td>\n",
              "      <td>...</td>\n",
              "      <td>0</td>\n",
              "      <td>6</td>\n",
              "      <td>10</td>\n",
              "      <td>5</td>\n",
              "      <td>12.400000</td>\n",
              "      <td>0</td>\n",
              "      <td>9.4</td>\n",
              "      <td>-0.8</td>\n",
              "      <td>-3.12</td>\n",
              "      <td>Graduate</td>\n",
              "    </tr>\n",
              "    <tr>\n",
              "      <th>4</th>\n",
              "      <td>2</td>\n",
              "      <td>39</td>\n",
              "      <td>1</td>\n",
              "      <td>8014</td>\n",
              "      <td>0</td>\n",
              "      <td>1</td>\n",
              "      <td>100.0</td>\n",
              "      <td>1</td>\n",
              "      <td>37</td>\n",
              "      <td>38</td>\n",
              "      <td>...</td>\n",
              "      <td>0</td>\n",
              "      <td>6</td>\n",
              "      <td>6</td>\n",
              "      <td>6</td>\n",
              "      <td>13.000000</td>\n",
              "      <td>0</td>\n",
              "      <td>13.9</td>\n",
              "      <td>-0.3</td>\n",
              "      <td>0.79</td>\n",
              "      <td>Graduate</td>\n",
              "    </tr>\n",
              "  </tbody>\n",
              "</table>\n",
              "<p>5 rows × 37 columns</p>\n",
              "</div>"
            ],
            "text/plain": [
              "   Marital status  Application mode  Application order  Course  \\\n",
              "0               1                17                  5     171   \n",
              "1               1                15                  1    9254   \n",
              "2               1                 1                  5    9070   \n",
              "3               1                17                  2    9773   \n",
              "4               2                39                  1    8014   \n",
              "\n",
              "   Daytime/evening attendance  Previous qualification  \\\n",
              "0                           1                       1   \n",
              "1                           1                       1   \n",
              "2                           1                       1   \n",
              "3                           1                       1   \n",
              "4                           0                       1   \n",
              "\n",
              "   Previous qualification (grade)  Nacionality  Mother's qualification  \\\n",
              "0                           122.0            1                      19   \n",
              "1                           160.0            1                       1   \n",
              "2                           122.0            1                      37   \n",
              "3                           122.0            1                      38   \n",
              "4                           100.0            1                      37   \n",
              "\n",
              "   Father's qualification  ...  Curricular units 2nd sem (credited)  \\\n",
              "0                      12  ...                                    0   \n",
              "1                       3  ...                                    0   \n",
              "2                      37  ...                                    0   \n",
              "3                      37  ...                                    0   \n",
              "4                      38  ...                                    0   \n",
              "\n",
              "   Curricular units 2nd sem (enrolled)  \\\n",
              "0                                    0   \n",
              "1                                    6   \n",
              "2                                    6   \n",
              "3                                    6   \n",
              "4                                    6   \n",
              "\n",
              "   Curricular units 2nd sem (evaluations)  \\\n",
              "0                                       0   \n",
              "1                                       6   \n",
              "2                                       0   \n",
              "3                                      10   \n",
              "4                                       6   \n",
              "\n",
              "   Curricular units 2nd sem (approved)  Curricular units 2nd sem (grade)  \\\n",
              "0                                    0                          0.000000   \n",
              "1                                    6                         13.666667   \n",
              "2                                    0                          0.000000   \n",
              "3                                    5                         12.400000   \n",
              "4                                    6                         13.000000   \n",
              "\n",
              "   Curricular units 2nd sem (without evaluations)  Unemployment rate  \\\n",
              "0                                               0               10.8   \n",
              "1                                               0               13.9   \n",
              "2                                               0               10.8   \n",
              "3                                               0                9.4   \n",
              "4                                               0               13.9   \n",
              "\n",
              "   Inflation rate   GDP    Target  \n",
              "0             1.4  1.74   Dropout  \n",
              "1            -0.3  0.79  Graduate  \n",
              "2             1.4  1.74   Dropout  \n",
              "3            -0.8 -3.12  Graduate  \n",
              "4            -0.3  0.79  Graduate  \n",
              "\n",
              "[5 rows x 37 columns]"
            ]
          },
          "execution_count": 3,
          "metadata": {},
          "output_type": "execute_result"
        }
      ],
      "source": [
        "student_performance = pd.read_csv(\"data.csv\")\n",
        "student_performance.head()"
      ]
    },
    {
      "cell_type": "markdown",
      "metadata": {
        "id": "kxZ_XjoHfz8g"
      },
      "source": [
        "### Splitting Features and Labels"
      ]
    },
    {
      "cell_type": "code",
      "execution_count": 4,
      "metadata": {
        "colab": {
          "base_uri": "https://localhost:8080/"
        },
        "id": "VQmdnrYXf62N",
        "outputId": "372cf252-43d8-4868-ae13-e5a9e3dceabb"
      },
      "outputs": [
        {
          "data": {
            "text/plain": [
              "4424"
            ]
          },
          "execution_count": 4,
          "metadata": {},
          "output_type": "execute_result"
        }
      ],
      "source": [
        "X = student_performance.drop(\"Target\", axis=1)\n",
        "y = student_performance[\"Target\"]\n",
        "len(X)"
      ]
    },
    {
      "cell_type": "markdown",
      "metadata": {
        "id": "tckHv2sPgsKo"
      },
      "source": [
        "### Encoding the targets into Dropout and No Dropout"
      ]
    },
    {
      "cell_type": "code",
      "execution_count": 5,
      "metadata": {
        "id": "_Ii6sogwgxIO"
      },
      "outputs": [],
      "source": [
        "y = np.where(y == \"Dropout\", 1, 0)"
      ]
    },
    {
      "cell_type": "code",
      "execution_count": 6,
      "metadata": {
        "colab": {
          "base_uri": "https://localhost:8080/"
        },
        "id": "-YaXjHP0g6Pq",
        "outputId": "42873e7f-2163-45be-9d92-826c82a77a76"
      },
      "outputs": [
        {
          "data": {
            "text/plain": [
              "array([1, 0, 1])"
            ]
          },
          "execution_count": 6,
          "metadata": {},
          "output_type": "execute_result"
        }
      ],
      "source": [
        "y[:3]"
      ]
    },
    {
      "cell_type": "markdown",
      "metadata": {
        "id": "LuPWC9Qt0X7S"
      },
      "source": [
        "# Feature Engineering"
      ]
    },
    {
      "cell_type": "markdown",
      "metadata": {
        "id": "gO9FFPqkisIs"
      },
      "source": [
        "### One Hot Encoding Relavant Features"
      ]
    },
    {
      "cell_type": "code",
      "execution_count": 7,
      "metadata": {
        "colab": {
          "base_uri": "https://localhost:8080/"
        },
        "id": "KRmVYIIpg78w",
        "outputId": "2ca82674-a5ad-4b23-d943-543364cd3d7d"
      },
      "outputs": [
        {
          "data": {
            "text/plain": [
              "array(['Marital status_1', 'Marital status_2', 'Marital status_3',\n",
              "       'Marital status_4', 'Marital status_5', 'Marital status_6',\n",
              "       'Application mode_1', 'Application mode_2', 'Application mode_5',\n",
              "       'Application mode_7', 'Application mode_10', 'Application mode_15',\n",
              "       'Application mode_16', 'Application mode_17',\n",
              "       'Application mode_18', 'Application mode_26',\n",
              "       'Application mode_27', 'Application mode_39',\n",
              "       'Application mode_42', 'Application mode_43',\n",
              "       'Application mode_44', 'Application mode_51',\n",
              "       'Application mode_53', 'Application mode_57', 'Course_33',\n",
              "       'Course_171', 'Course_8014', 'Course_9003', 'Course_9070',\n",
              "       'Course_9085', 'Course_9119', 'Course_9130', 'Course_9147',\n",
              "       'Course_9238', 'Course_9254', 'Course_9500', 'Course_9556',\n",
              "       'Course_9670', 'Course_9773', 'Course_9853', 'Course_9991',\n",
              "       'Nacionality_1', 'Nacionality_2', 'Nacionality_6',\n",
              "       'Nacionality_11', 'Nacionality_13', 'Nacionality_14',\n",
              "       'Nacionality_17', 'Nacionality_21', 'Nacionality_22',\n",
              "       'Nacionality_24', 'Nacionality_25', 'Nacionality_26',\n",
              "       'Nacionality_32', 'Nacionality_41', 'Nacionality_62',\n",
              "       'Nacionality_100', 'Nacionality_101', 'Nacionality_103',\n",
              "       'Nacionality_105', 'Nacionality_108', 'Nacionality_109'],\n",
              "      dtype=object)"
            ]
          },
          "execution_count": 7,
          "metadata": {},
          "output_type": "execute_result"
        }
      ],
      "source": [
        "from sklearn.preprocessing import OneHotEncoder\n",
        "\n",
        "oh_cats = [\"Marital status\", \"Application mode\", \"Course\", \"Nacionality\"]\n",
        "oh_encoder = OneHotEncoder()\n",
        "oh_dataset = oh_encoder.fit_transform(student_performance[oh_cats])\n",
        "oh_encoder.get_feature_names_out()"
      ]
    },
    {
      "cell_type": "markdown",
      "metadata": {
        "id": "IfDO8kcgi90m"
      },
      "source": [
        "### Constructing a DataFrame out of OH Encoded Data to Find Correlations"
      ]
    },
    {
      "cell_type": "code",
      "execution_count": 8,
      "metadata": {
        "colab": {
          "base_uri": "https://localhost:8080/",
          "height": 273
        },
        "id": "ZNoKQLNji68u",
        "outputId": "e934a100-ef6e-4155-b633-7c2b75387307"
      },
      "outputs": [
        {
          "data": {
            "text/html": [
              "<div>\n",
              "<style scoped>\n",
              "    .dataframe tbody tr th:only-of-type {\n",
              "        vertical-align: middle;\n",
              "    }\n",
              "\n",
              "    .dataframe tbody tr th {\n",
              "        vertical-align: top;\n",
              "    }\n",
              "\n",
              "    .dataframe thead th {\n",
              "        text-align: right;\n",
              "    }\n",
              "</style>\n",
              "<table border=\"1\" class=\"dataframe\">\n",
              "  <thead>\n",
              "    <tr style=\"text-align: right;\">\n",
              "      <th></th>\n",
              "      <th>Marital status_1</th>\n",
              "      <th>Marital status_2</th>\n",
              "      <th>Marital status_3</th>\n",
              "      <th>Marital status_4</th>\n",
              "      <th>Marital status_5</th>\n",
              "      <th>Marital status_6</th>\n",
              "      <th>Application mode_1</th>\n",
              "      <th>Application mode_2</th>\n",
              "      <th>Application mode_5</th>\n",
              "      <th>Application mode_7</th>\n",
              "      <th>...</th>\n",
              "      <th>Nacionality_26</th>\n",
              "      <th>Nacionality_32</th>\n",
              "      <th>Nacionality_41</th>\n",
              "      <th>Nacionality_62</th>\n",
              "      <th>Nacionality_100</th>\n",
              "      <th>Nacionality_101</th>\n",
              "      <th>Nacionality_103</th>\n",
              "      <th>Nacionality_105</th>\n",
              "      <th>Nacionality_108</th>\n",
              "      <th>Nacionality_109</th>\n",
              "    </tr>\n",
              "  </thead>\n",
              "  <tbody>\n",
              "    <tr>\n",
              "      <th>0</th>\n",
              "      <td>1.0</td>\n",
              "      <td>0.0</td>\n",
              "      <td>0.0</td>\n",
              "      <td>0.0</td>\n",
              "      <td>0.0</td>\n",
              "      <td>0.0</td>\n",
              "      <td>0.0</td>\n",
              "      <td>0.0</td>\n",
              "      <td>0.0</td>\n",
              "      <td>0.0</td>\n",
              "      <td>...</td>\n",
              "      <td>0.0</td>\n",
              "      <td>0.0</td>\n",
              "      <td>0.0</td>\n",
              "      <td>0.0</td>\n",
              "      <td>0.0</td>\n",
              "      <td>0.0</td>\n",
              "      <td>0.0</td>\n",
              "      <td>0.0</td>\n",
              "      <td>0.0</td>\n",
              "      <td>0.0</td>\n",
              "    </tr>\n",
              "    <tr>\n",
              "      <th>1</th>\n",
              "      <td>1.0</td>\n",
              "      <td>0.0</td>\n",
              "      <td>0.0</td>\n",
              "      <td>0.0</td>\n",
              "      <td>0.0</td>\n",
              "      <td>0.0</td>\n",
              "      <td>0.0</td>\n",
              "      <td>0.0</td>\n",
              "      <td>0.0</td>\n",
              "      <td>0.0</td>\n",
              "      <td>...</td>\n",
              "      <td>0.0</td>\n",
              "      <td>0.0</td>\n",
              "      <td>0.0</td>\n",
              "      <td>0.0</td>\n",
              "      <td>0.0</td>\n",
              "      <td>0.0</td>\n",
              "      <td>0.0</td>\n",
              "      <td>0.0</td>\n",
              "      <td>0.0</td>\n",
              "      <td>0.0</td>\n",
              "    </tr>\n",
              "    <tr>\n",
              "      <th>2</th>\n",
              "      <td>1.0</td>\n",
              "      <td>0.0</td>\n",
              "      <td>0.0</td>\n",
              "      <td>0.0</td>\n",
              "      <td>0.0</td>\n",
              "      <td>0.0</td>\n",
              "      <td>1.0</td>\n",
              "      <td>0.0</td>\n",
              "      <td>0.0</td>\n",
              "      <td>0.0</td>\n",
              "      <td>...</td>\n",
              "      <td>0.0</td>\n",
              "      <td>0.0</td>\n",
              "      <td>0.0</td>\n",
              "      <td>0.0</td>\n",
              "      <td>0.0</td>\n",
              "      <td>0.0</td>\n",
              "      <td>0.0</td>\n",
              "      <td>0.0</td>\n",
              "      <td>0.0</td>\n",
              "      <td>0.0</td>\n",
              "    </tr>\n",
              "    <tr>\n",
              "      <th>3</th>\n",
              "      <td>1.0</td>\n",
              "      <td>0.0</td>\n",
              "      <td>0.0</td>\n",
              "      <td>0.0</td>\n",
              "      <td>0.0</td>\n",
              "      <td>0.0</td>\n",
              "      <td>0.0</td>\n",
              "      <td>0.0</td>\n",
              "      <td>0.0</td>\n",
              "      <td>0.0</td>\n",
              "      <td>...</td>\n",
              "      <td>0.0</td>\n",
              "      <td>0.0</td>\n",
              "      <td>0.0</td>\n",
              "      <td>0.0</td>\n",
              "      <td>0.0</td>\n",
              "      <td>0.0</td>\n",
              "      <td>0.0</td>\n",
              "      <td>0.0</td>\n",
              "      <td>0.0</td>\n",
              "      <td>0.0</td>\n",
              "    </tr>\n",
              "    <tr>\n",
              "      <th>4</th>\n",
              "      <td>0.0</td>\n",
              "      <td>1.0</td>\n",
              "      <td>0.0</td>\n",
              "      <td>0.0</td>\n",
              "      <td>0.0</td>\n",
              "      <td>0.0</td>\n",
              "      <td>0.0</td>\n",
              "      <td>0.0</td>\n",
              "      <td>0.0</td>\n",
              "      <td>0.0</td>\n",
              "      <td>...</td>\n",
              "      <td>0.0</td>\n",
              "      <td>0.0</td>\n",
              "      <td>0.0</td>\n",
              "      <td>0.0</td>\n",
              "      <td>0.0</td>\n",
              "      <td>0.0</td>\n",
              "      <td>0.0</td>\n",
              "      <td>0.0</td>\n",
              "      <td>0.0</td>\n",
              "      <td>0.0</td>\n",
              "    </tr>\n",
              "  </tbody>\n",
              "</table>\n",
              "<p>5 rows × 62 columns</p>\n",
              "</div>"
            ],
            "text/plain": [
              "   Marital status_1  Marital status_2  Marital status_3  Marital status_4  \\\n",
              "0               1.0               0.0               0.0               0.0   \n",
              "1               1.0               0.0               0.0               0.0   \n",
              "2               1.0               0.0               0.0               0.0   \n",
              "3               1.0               0.0               0.0               0.0   \n",
              "4               0.0               1.0               0.0               0.0   \n",
              "\n",
              "   Marital status_5  Marital status_6  Application mode_1  Application mode_2  \\\n",
              "0               0.0               0.0                 0.0                 0.0   \n",
              "1               0.0               0.0                 0.0                 0.0   \n",
              "2               0.0               0.0                 1.0                 0.0   \n",
              "3               0.0               0.0                 0.0                 0.0   \n",
              "4               0.0               0.0                 0.0                 0.0   \n",
              "\n",
              "   Application mode_5  Application mode_7  ...  Nacionality_26  \\\n",
              "0                 0.0                 0.0  ...             0.0   \n",
              "1                 0.0                 0.0  ...             0.0   \n",
              "2                 0.0                 0.0  ...             0.0   \n",
              "3                 0.0                 0.0  ...             0.0   \n",
              "4                 0.0                 0.0  ...             0.0   \n",
              "\n",
              "   Nacionality_32  Nacionality_41  Nacionality_62  Nacionality_100  \\\n",
              "0             0.0             0.0             0.0              0.0   \n",
              "1             0.0             0.0             0.0              0.0   \n",
              "2             0.0             0.0             0.0              0.0   \n",
              "3             0.0             0.0             0.0              0.0   \n",
              "4             0.0             0.0             0.0              0.0   \n",
              "\n",
              "   Nacionality_101  Nacionality_103  Nacionality_105  Nacionality_108  \\\n",
              "0              0.0              0.0              0.0              0.0   \n",
              "1              0.0              0.0              0.0              0.0   \n",
              "2              0.0              0.0              0.0              0.0   \n",
              "3              0.0              0.0              0.0              0.0   \n",
              "4              0.0              0.0              0.0              0.0   \n",
              "\n",
              "   Nacionality_109  \n",
              "0              0.0  \n",
              "1              0.0  \n",
              "2              0.0  \n",
              "3              0.0  \n",
              "4              0.0  \n",
              "\n",
              "[5 rows x 62 columns]"
            ]
          },
          "execution_count": 8,
          "metadata": {},
          "output_type": "execute_result"
        }
      ],
      "source": [
        "oh_df = pd.DataFrame.sparse.from_spmatrix(oh_dataset, columns=oh_encoder.get_feature_names_out(), index = student_performance.index)\n",
        "oh_df.head()"
      ]
    },
    {
      "cell_type": "markdown",
      "metadata": {
        "id": "anM7lvQdlxh9"
      },
      "source": [
        "### Finding Correlations between OH Cats and the Target"
      ]
    },
    {
      "cell_type": "code",
      "execution_count": 9,
      "metadata": {
        "id": "Dm-_uAKjjXLD"
      },
      "outputs": [],
      "source": [
        "oh_corr = oh_df.insert(len(oh_df.columns) - 1, \"Target\", y, True)"
      ]
    },
    {
      "cell_type": "code",
      "execution_count": 10,
      "metadata": {
        "colab": {
          "base_uri": "https://localhost:8080/"
        },
        "id": "xRCNjiQol44m",
        "outputId": "b03f8cc4-52af-4819-cb18-a810a61aa33d"
      },
      "outputs": [
        {
          "data": {
            "text/plain": [
              "Target                 1.000000\n",
              "Application mode_39    0.231699\n",
              "Application mode_7     0.111978\n",
              "Course_9991            0.101295\n",
              "Marital status_2       0.099048\n",
              "                         ...   \n",
              "Course_9070           -0.047474\n",
              "Course_9238           -0.087361\n",
              "Marital status_1      -0.113859\n",
              "Course_9500           -0.163815\n",
              "Application mode_1    -0.202460\n",
              "Name: Target, Length: 63, dtype: float64"
            ]
          },
          "execution_count": 10,
          "metadata": {},
          "output_type": "execute_result"
        }
      ],
      "source": [
        "corr_matrix_oh = oh_df.corr()\n",
        "corr_matrix_oh[\"Target\"].sort_values(ascending=False)"
      ]
    },
    {
      "cell_type": "markdown",
      "metadata": {
        "id": "j8-OoA0Dqr-r"
      },
      "source": [
        "Application mode_39, Course_9500, and Application mode_1 appear to correlate most strongly with the Target"
      ]
    },
    {
      "cell_type": "markdown",
      "metadata": {
        "id": "oFYwpaZjq-h3"
      },
      "source": [
        "### Constructing a DataFrame out of Non-OH Encoded Data to Find Correlations"
      ]
    },
    {
      "cell_type": "code",
      "execution_count": 11,
      "metadata": {
        "colab": {
          "base_uri": "https://localhost:8080/",
          "height": 308
        },
        "id": "8ZYrXAicrKbl",
        "outputId": "0dc9b9b1-ca0a-4f0a-e5b0-85cc763149ef"
      },
      "outputs": [
        {
          "data": {
            "text/html": [
              "<div>\n",
              "<style scoped>\n",
              "    .dataframe tbody tr th:only-of-type {\n",
              "        vertical-align: middle;\n",
              "    }\n",
              "\n",
              "    .dataframe tbody tr th {\n",
              "        vertical-align: top;\n",
              "    }\n",
              "\n",
              "    .dataframe thead th {\n",
              "        text-align: right;\n",
              "    }\n",
              "</style>\n",
              "<table border=\"1\" class=\"dataframe\">\n",
              "  <thead>\n",
              "    <tr style=\"text-align: right;\">\n",
              "      <th></th>\n",
              "      <th>Application order</th>\n",
              "      <th>Daytime/evening attendance</th>\n",
              "      <th>Previous qualification</th>\n",
              "      <th>Previous qualification (grade)</th>\n",
              "      <th>Mother's qualification</th>\n",
              "      <th>Father's qualification</th>\n",
              "      <th>Mother's occupation</th>\n",
              "      <th>Father's occupation</th>\n",
              "      <th>Admission grade</th>\n",
              "      <th>Displaced</th>\n",
              "      <th>...</th>\n",
              "      <th>Curricular units 2nd sem (credited)</th>\n",
              "      <th>Curricular units 2nd sem (enrolled)</th>\n",
              "      <th>Curricular units 2nd sem (evaluations)</th>\n",
              "      <th>Curricular units 2nd sem (approved)</th>\n",
              "      <th>Curricular units 2nd sem (grade)</th>\n",
              "      <th>Curricular units 2nd sem (without evaluations)</th>\n",
              "      <th>Unemployment rate</th>\n",
              "      <th>Inflation rate</th>\n",
              "      <th>GDP</th>\n",
              "      <th>Target</th>\n",
              "    </tr>\n",
              "  </thead>\n",
              "  <tbody>\n",
              "    <tr>\n",
              "      <th>0</th>\n",
              "      <td>5</td>\n",
              "      <td>1</td>\n",
              "      <td>1</td>\n",
              "      <td>122.0</td>\n",
              "      <td>19</td>\n",
              "      <td>12</td>\n",
              "      <td>5</td>\n",
              "      <td>9</td>\n",
              "      <td>127.3</td>\n",
              "      <td>1</td>\n",
              "      <td>...</td>\n",
              "      <td>0</td>\n",
              "      <td>0</td>\n",
              "      <td>0</td>\n",
              "      <td>0</td>\n",
              "      <td>0.000000</td>\n",
              "      <td>0</td>\n",
              "      <td>10.8</td>\n",
              "      <td>1.4</td>\n",
              "      <td>1.74</td>\n",
              "      <td>1</td>\n",
              "    </tr>\n",
              "    <tr>\n",
              "      <th>1</th>\n",
              "      <td>1</td>\n",
              "      <td>1</td>\n",
              "      <td>1</td>\n",
              "      <td>160.0</td>\n",
              "      <td>1</td>\n",
              "      <td>3</td>\n",
              "      <td>3</td>\n",
              "      <td>3</td>\n",
              "      <td>142.5</td>\n",
              "      <td>1</td>\n",
              "      <td>...</td>\n",
              "      <td>0</td>\n",
              "      <td>6</td>\n",
              "      <td>6</td>\n",
              "      <td>6</td>\n",
              "      <td>13.666667</td>\n",
              "      <td>0</td>\n",
              "      <td>13.9</td>\n",
              "      <td>-0.3</td>\n",
              "      <td>0.79</td>\n",
              "      <td>0</td>\n",
              "    </tr>\n",
              "    <tr>\n",
              "      <th>2</th>\n",
              "      <td>5</td>\n",
              "      <td>1</td>\n",
              "      <td>1</td>\n",
              "      <td>122.0</td>\n",
              "      <td>37</td>\n",
              "      <td>37</td>\n",
              "      <td>9</td>\n",
              "      <td>9</td>\n",
              "      <td>124.8</td>\n",
              "      <td>1</td>\n",
              "      <td>...</td>\n",
              "      <td>0</td>\n",
              "      <td>6</td>\n",
              "      <td>0</td>\n",
              "      <td>0</td>\n",
              "      <td>0.000000</td>\n",
              "      <td>0</td>\n",
              "      <td>10.8</td>\n",
              "      <td>1.4</td>\n",
              "      <td>1.74</td>\n",
              "      <td>1</td>\n",
              "    </tr>\n",
              "    <tr>\n",
              "      <th>3</th>\n",
              "      <td>2</td>\n",
              "      <td>1</td>\n",
              "      <td>1</td>\n",
              "      <td>122.0</td>\n",
              "      <td>38</td>\n",
              "      <td>37</td>\n",
              "      <td>5</td>\n",
              "      <td>3</td>\n",
              "      <td>119.6</td>\n",
              "      <td>1</td>\n",
              "      <td>...</td>\n",
              "      <td>0</td>\n",
              "      <td>6</td>\n",
              "      <td>10</td>\n",
              "      <td>5</td>\n",
              "      <td>12.400000</td>\n",
              "      <td>0</td>\n",
              "      <td>9.4</td>\n",
              "      <td>-0.8</td>\n",
              "      <td>-3.12</td>\n",
              "      <td>0</td>\n",
              "    </tr>\n",
              "    <tr>\n",
              "      <th>4</th>\n",
              "      <td>1</td>\n",
              "      <td>0</td>\n",
              "      <td>1</td>\n",
              "      <td>100.0</td>\n",
              "      <td>37</td>\n",
              "      <td>38</td>\n",
              "      <td>9</td>\n",
              "      <td>9</td>\n",
              "      <td>141.5</td>\n",
              "      <td>0</td>\n",
              "      <td>...</td>\n",
              "      <td>0</td>\n",
              "      <td>6</td>\n",
              "      <td>6</td>\n",
              "      <td>6</td>\n",
              "      <td>13.000000</td>\n",
              "      <td>0</td>\n",
              "      <td>13.9</td>\n",
              "      <td>-0.3</td>\n",
              "      <td>0.79</td>\n",
              "      <td>0</td>\n",
              "    </tr>\n",
              "  </tbody>\n",
              "</table>\n",
              "<p>5 rows × 33 columns</p>\n",
              "</div>"
            ],
            "text/plain": [
              "   Application order  Daytime/evening attendance  Previous qualification  \\\n",
              "0                  5                           1                       1   \n",
              "1                  1                           1                       1   \n",
              "2                  5                           1                       1   \n",
              "3                  2                           1                       1   \n",
              "4                  1                           0                       1   \n",
              "\n",
              "   Previous qualification (grade)  Mother's qualification  \\\n",
              "0                           122.0                      19   \n",
              "1                           160.0                       1   \n",
              "2                           122.0                      37   \n",
              "3                           122.0                      38   \n",
              "4                           100.0                      37   \n",
              "\n",
              "   Father's qualification  Mother's occupation  Father's occupation  \\\n",
              "0                      12                    5                    9   \n",
              "1                       3                    3                    3   \n",
              "2                      37                    9                    9   \n",
              "3                      37                    5                    3   \n",
              "4                      38                    9                    9   \n",
              "\n",
              "   Admission grade  Displaced  ...  Curricular units 2nd sem (credited)  \\\n",
              "0            127.3          1  ...                                    0   \n",
              "1            142.5          1  ...                                    0   \n",
              "2            124.8          1  ...                                    0   \n",
              "3            119.6          1  ...                                    0   \n",
              "4            141.5          0  ...                                    0   \n",
              "\n",
              "   Curricular units 2nd sem (enrolled)  \\\n",
              "0                                    0   \n",
              "1                                    6   \n",
              "2                                    6   \n",
              "3                                    6   \n",
              "4                                    6   \n",
              "\n",
              "   Curricular units 2nd sem (evaluations)  \\\n",
              "0                                       0   \n",
              "1                                       6   \n",
              "2                                       0   \n",
              "3                                      10   \n",
              "4                                       6   \n",
              "\n",
              "   Curricular units 2nd sem (approved)  Curricular units 2nd sem (grade)  \\\n",
              "0                                    0                          0.000000   \n",
              "1                                    6                         13.666667   \n",
              "2                                    0                          0.000000   \n",
              "3                                    5                         12.400000   \n",
              "4                                    6                         13.000000   \n",
              "\n",
              "   Curricular units 2nd sem (without evaluations)  Unemployment rate  \\\n",
              "0                                               0               10.8   \n",
              "1                                               0               13.9   \n",
              "2                                               0               10.8   \n",
              "3                                               0                9.4   \n",
              "4                                               0               13.9   \n",
              "\n",
              "   Inflation rate   GDP  Target  \n",
              "0             1.4  1.74       1  \n",
              "1            -0.3  0.79       0  \n",
              "2             1.4  1.74       1  \n",
              "3            -0.8 -3.12       0  \n",
              "4            -0.3  0.79       0  \n",
              "\n",
              "[5 rows x 33 columns]"
            ]
          },
          "execution_count": 11,
          "metadata": {},
          "output_type": "execute_result"
        }
      ],
      "source": [
        "n_oh_df = student_performance.drop(oh_cats, axis=1)\n",
        "n_oh_df[\"Target\"] = y\n",
        "n_oh_df.head()"
      ]
    },
    {
      "cell_type": "markdown",
      "metadata": {
        "id": "wFxrBSI9mVMo"
      },
      "source": [
        "### Finding Correlations for Non_OH Features"
      ]
    },
    {
      "cell_type": "code",
      "execution_count": 12,
      "metadata": {
        "colab": {
          "base_uri": "https://localhost:8080/"
        },
        "id": "a_33TB0tqnFD",
        "outputId": "d820c2f0-2891-4d2b-de4c-404a44deec94"
      },
      "outputs": [
        {
          "data": {
            "text/plain": [
              "Target                                            1.000000\n",
              "Age at enrollment                                 0.254215\n",
              "Debtor                                            0.229407\n",
              "Gender                                            0.203983\n",
              "Curricular units 2nd sem (without evaluations)    0.079901\n",
              "Mother's qualification                            0.064958\n",
              "Curricular units 1st sem (without evaluations)    0.054230\n",
              "Previous qualification                            0.049379\n",
              "Inflation rate                                    0.027826\n",
              "Father's qualification                            0.018295\n",
              "Unemployment rate                                 0.012980\n",
              "Educational special needs                         0.002806\n",
              "International                                    -0.010360\n",
              "Mother's occupation                              -0.021999\n",
              "Father's occupation                              -0.024260\n",
              "Curricular units 1st sem (credited)              -0.029308\n",
              "Curricular units 2nd sem (credited)              -0.033038\n",
              "GDP                                              -0.046319\n",
              "Application order                                -0.070485\n",
              "Previous qualification (grade)                   -0.078208\n",
              "Daytime/evening attendance                       -0.080499\n",
              "Curricular units 1st sem (evaluations)           -0.090125\n",
              "Admission grade                                  -0.095806\n",
              "Displaced                                        -0.107232\n",
              "Curricular units 1st sem (enrolled)              -0.124635\n",
              "Curricular units 2nd sem (enrolled)              -0.141515\n",
              "Curricular units 2nd sem (evaluations)           -0.154999\n",
              "Scholarship holder                               -0.245354\n",
              "Tuition fees up to date                          -0.429149\n",
              "Curricular units 1st sem (approved)              -0.479112\n",
              "Curricular units 1st sem (grade)                 -0.480669\n",
              "Curricular units 2nd sem (approved)              -0.569500\n",
              "Curricular units 2nd sem (grade)                 -0.571792\n",
              "Name: Target, dtype: float64"
            ]
          },
          "execution_count": 12,
          "metadata": {},
          "output_type": "execute_result"
        }
      ],
      "source": [
        "corr_matrix_n_oh = n_oh_df.corr()\n",
        "corr_matrix_n_oh[\"Target\"].sort_values(ascending=False)"
      ]
    },
    {
      "cell_type": "markdown",
      "metadata": {
        "id": "Ab5sHnifr0H9"
      },
      "source": [
        "### From the previous correlation analysis, it appears that the following features have the most significant impact on whether a student drops out:\n",
        "*   Curricular units 2nd sem (grade)\n",
        "*   Curricular units 2nd sem (approved)\n",
        "*   Curricular units 1st sem (grade)\n",
        "*   Curricular units 1st sem (approved)\n",
        "*   Tuition fees up to date\n",
        "*   Scholarship holder\n",
        "*   Application mode_39\n",
        "*   Application mode_1\n",
        "*   Course_9500\n",
        "*   Age at enrollment\n",
        "*   Debtor\n",
        "*   Gender"
      ]
    },
    {
      "cell_type": "markdown",
      "metadata": {
        "id": "NEMQK_0czTNe"
      },
      "source": [
        "### Extracting Most Significant OH Features"
      ]
    },
    {
      "cell_type": "code",
      "execution_count": 13,
      "metadata": {
        "colab": {
          "base_uri": "https://localhost:8080/",
          "height": 206
        },
        "id": "QWmh_LkpwjW0",
        "outputId": "4f099d2e-d38c-4f9b-8c8b-b04fae9fcb60"
      },
      "outputs": [
        {
          "data": {
            "text/plain": [
              "Index(['Application mode_39', 'Application mode_1', 'Course_9500'], dtype='object')"
            ]
          },
          "execution_count": 13,
          "metadata": {},
          "output_type": "execute_result"
        }
      ],
      "source": [
        "important_oh_features = [\"Application mode_39\", \"Application mode_1\", \"Course_9500\"]\n",
        "oh_important = oh_df[important_oh_features]\n",
        "oh_important.columns"
      ]
    },
    {
      "cell_type": "markdown",
      "metadata": {
        "id": "Gt8ZwnF0wGw0"
      },
      "source": [
        "### Extracting Most Significant Non OH Features"
      ]
    },
    {
      "cell_type": "code",
      "execution_count": 14,
      "metadata": {
        "colab": {
          "base_uri": "https://localhost:8080/"
        },
        "id": "T6QUTFktwOO3",
        "outputId": "6cbd1598-76e3-405b-e092-1065cfaa8649"
      },
      "outputs": [
        {
          "data": {
            "text/plain": [
              "Index(['Curricular units 2nd sem (grade)',\n",
              "       'Curricular units 2nd sem (approved)',\n",
              "       'Curricular units 1st sem (grade)',\n",
              "       'Curricular units 1st sem (approved)', 'Tuition fees up to date',\n",
              "       'Scholarship holder', 'Age at enrollment', 'Debtor', 'Gender'],\n",
              "      dtype='object')"
            ]
          },
          "execution_count": 14,
          "metadata": {},
          "output_type": "execute_result"
        }
      ],
      "source": [
        "important_n_oh_features = [\n",
        "    \"Curricular units 2nd sem (grade)\",\n",
        "    \"Curricular units 2nd sem (approved)\",\n",
        "    \"Curricular units 1st sem (grade)\",\n",
        "    \"Curricular units 1st sem (approved)\",\n",
        "    \"Tuition fees up to date\",\n",
        "    \"Scholarship holder\",\n",
        "    \"Age at enrollment\",\n",
        "    \"Debtor\",\n",
        "    \"Gender\"\n",
        "]\n",
        "\n",
        "n_oh_important = X[important_n_oh_features]\n",
        "n_oh_important.columns"
      ]
    },
    {
      "cell_type": "markdown",
      "metadata": {
        "id": "v3ZLzPJ3zVjQ"
      },
      "source": [
        "### Constructing Feature Matrix with Most Important Features"
      ]
    },
    {
      "cell_type": "code",
      "execution_count": 15,
      "metadata": {
        "colab": {
          "base_uri": "https://localhost:8080/",
          "height": 224
        },
        "id": "UZ6r0TPFvBTa",
        "outputId": "51bfbf82-3d00-447b-8e20-3781bf860b94"
      },
      "outputs": [
        {
          "data": {
            "text/html": [
              "<div>\n",
              "<style scoped>\n",
              "    .dataframe tbody tr th:only-of-type {\n",
              "        vertical-align: middle;\n",
              "    }\n",
              "\n",
              "    .dataframe tbody tr th {\n",
              "        vertical-align: top;\n",
              "    }\n",
              "\n",
              "    .dataframe thead th {\n",
              "        text-align: right;\n",
              "    }\n",
              "</style>\n",
              "<table border=\"1\" class=\"dataframe\">\n",
              "  <thead>\n",
              "    <tr style=\"text-align: right;\">\n",
              "      <th></th>\n",
              "      <th>Curricular units 2nd sem (grade)</th>\n",
              "      <th>Curricular units 2nd sem (approved)</th>\n",
              "      <th>Curricular units 1st sem (grade)</th>\n",
              "      <th>Curricular units 1st sem (approved)</th>\n",
              "      <th>Tuition fees up to date</th>\n",
              "      <th>Scholarship holder</th>\n",
              "      <th>Age at enrollment</th>\n",
              "      <th>Debtor</th>\n",
              "      <th>Gender</th>\n",
              "      <th>Application mode_39</th>\n",
              "      <th>Application mode_1</th>\n",
              "      <th>Course_9500</th>\n",
              "    </tr>\n",
              "  </thead>\n",
              "  <tbody>\n",
              "    <tr>\n",
              "      <th>0</th>\n",
              "      <td>0.000000</td>\n",
              "      <td>0</td>\n",
              "      <td>0.000000</td>\n",
              "      <td>0</td>\n",
              "      <td>1</td>\n",
              "      <td>0</td>\n",
              "      <td>20</td>\n",
              "      <td>0</td>\n",
              "      <td>1</td>\n",
              "      <td>0.0</td>\n",
              "      <td>0.0</td>\n",
              "      <td>0.0</td>\n",
              "    </tr>\n",
              "    <tr>\n",
              "      <th>1</th>\n",
              "      <td>13.666667</td>\n",
              "      <td>6</td>\n",
              "      <td>14.000000</td>\n",
              "      <td>6</td>\n",
              "      <td>0</td>\n",
              "      <td>0</td>\n",
              "      <td>19</td>\n",
              "      <td>0</td>\n",
              "      <td>1</td>\n",
              "      <td>0.0</td>\n",
              "      <td>0.0</td>\n",
              "      <td>0.0</td>\n",
              "    </tr>\n",
              "    <tr>\n",
              "      <th>2</th>\n",
              "      <td>0.000000</td>\n",
              "      <td>0</td>\n",
              "      <td>0.000000</td>\n",
              "      <td>0</td>\n",
              "      <td>0</td>\n",
              "      <td>0</td>\n",
              "      <td>19</td>\n",
              "      <td>0</td>\n",
              "      <td>1</td>\n",
              "      <td>0.0</td>\n",
              "      <td>1.0</td>\n",
              "      <td>0.0</td>\n",
              "    </tr>\n",
              "    <tr>\n",
              "      <th>3</th>\n",
              "      <td>12.400000</td>\n",
              "      <td>5</td>\n",
              "      <td>13.428571</td>\n",
              "      <td>6</td>\n",
              "      <td>1</td>\n",
              "      <td>0</td>\n",
              "      <td>20</td>\n",
              "      <td>0</td>\n",
              "      <td>0</td>\n",
              "      <td>0.0</td>\n",
              "      <td>0.0</td>\n",
              "      <td>0.0</td>\n",
              "    </tr>\n",
              "    <tr>\n",
              "      <th>4</th>\n",
              "      <td>13.000000</td>\n",
              "      <td>6</td>\n",
              "      <td>12.333333</td>\n",
              "      <td>5</td>\n",
              "      <td>1</td>\n",
              "      <td>0</td>\n",
              "      <td>45</td>\n",
              "      <td>0</td>\n",
              "      <td>0</td>\n",
              "      <td>1.0</td>\n",
              "      <td>0.0</td>\n",
              "      <td>0.0</td>\n",
              "    </tr>\n",
              "  </tbody>\n",
              "</table>\n",
              "</div>"
            ],
            "text/plain": [
              "   Curricular units 2nd sem (grade)  Curricular units 2nd sem (approved)  \\\n",
              "0                          0.000000                                    0   \n",
              "1                         13.666667                                    6   \n",
              "2                          0.000000                                    0   \n",
              "3                         12.400000                                    5   \n",
              "4                         13.000000                                    6   \n",
              "\n",
              "   Curricular units 1st sem (grade)  Curricular units 1st sem (approved)  \\\n",
              "0                          0.000000                                    0   \n",
              "1                         14.000000                                    6   \n",
              "2                          0.000000                                    0   \n",
              "3                         13.428571                                    6   \n",
              "4                         12.333333                                    5   \n",
              "\n",
              "   Tuition fees up to date  Scholarship holder  Age at enrollment  Debtor  \\\n",
              "0                        1                   0                 20       0   \n",
              "1                        0                   0                 19       0   \n",
              "2                        0                   0                 19       0   \n",
              "3                        1                   0                 20       0   \n",
              "4                        1                   0                 45       0   \n",
              "\n",
              "   Gender  Application mode_39  Application mode_1  Course_9500  \n",
              "0       1                  0.0                 0.0          0.0  \n",
              "1       1                  0.0                 0.0          0.0  \n",
              "2       1                  0.0                 1.0          0.0  \n",
              "3       0                  0.0                 0.0          0.0  \n",
              "4       0                  1.0                 0.0          0.0  "
            ]
          },
          "execution_count": 15,
          "metadata": {},
          "output_type": "execute_result"
        }
      ],
      "source": [
        "X_important = pd.concat([n_oh_important, oh_important], axis=1)\n",
        "X_important.head()"
      ]
    },
    {
      "cell_type": "markdown",
      "metadata": {
        "id": "PPzdAz0VzAWA"
      },
      "source": [
        "### Splitting into Train and Test Set"
      ]
    },
    {
      "cell_type": "code",
      "execution_count": 16,
      "metadata": {
        "id": "6PNhNb9jziFT"
      },
      "outputs": [],
      "source": [
        "from sklearn.model_selection import train_test_split\n",
        "\n",
        "X_train, X_test, y_train, y_test = train_test_split(X_important, y, test_size=0.2, random_state=42)"
      ]
    },
    {
      "cell_type": "code",
      "execution_count": 17,
      "metadata": {
        "colab": {
          "base_uri": "https://localhost:8080/"
        },
        "id": "5ybkaeeU0BlM",
        "outputId": "9fac0de4-312a-4973-a2b6-c7a3ef0beeed"
      },
      "outputs": [
        {
          "data": {
            "text/plain": [
              "(3539, 885)"
            ]
          },
          "execution_count": 17,
          "metadata": {},
          "output_type": "execute_result"
        }
      ],
      "source": [
        "len(X_train), len(X_test)"
      ]
    },
    {
      "cell_type": "markdown",
      "metadata": {
        "id": "lBRgajRi0HYa"
      },
      "source": [
        "# Data Exploration"
      ]
    },
    {
      "cell_type": "code",
      "execution_count": 18,
      "metadata": {
        "colab": {
          "base_uri": "https://localhost:8080/",
          "height": 224
        },
        "id": "1af3w-AS0jgX",
        "outputId": "22ddb46b-ec31-4f6d-e0db-65f68dacc147"
      },
      "outputs": [
        {
          "data": {
            "text/html": [
              "<div>\n",
              "<style scoped>\n",
              "    .dataframe tbody tr th:only-of-type {\n",
              "        vertical-align: middle;\n",
              "    }\n",
              "\n",
              "    .dataframe tbody tr th {\n",
              "        vertical-align: top;\n",
              "    }\n",
              "\n",
              "    .dataframe thead th {\n",
              "        text-align: right;\n",
              "    }\n",
              "</style>\n",
              "<table border=\"1\" class=\"dataframe\">\n",
              "  <thead>\n",
              "    <tr style=\"text-align: right;\">\n",
              "      <th></th>\n",
              "      <th>Curricular units 2nd sem (grade)</th>\n",
              "      <th>Curricular units 2nd sem (approved)</th>\n",
              "      <th>Curricular units 1st sem (grade)</th>\n",
              "      <th>Curricular units 1st sem (approved)</th>\n",
              "      <th>Tuition fees up to date</th>\n",
              "      <th>Scholarship holder</th>\n",
              "      <th>Age at enrollment</th>\n",
              "      <th>Debtor</th>\n",
              "      <th>Gender</th>\n",
              "      <th>Application mode_39</th>\n",
              "      <th>Application mode_1</th>\n",
              "      <th>Course_9500</th>\n",
              "    </tr>\n",
              "  </thead>\n",
              "  <tbody>\n",
              "    <tr>\n",
              "      <th>3383</th>\n",
              "      <td>0.000000</td>\n",
              "      <td>0</td>\n",
              "      <td>0.000000</td>\n",
              "      <td>0</td>\n",
              "      <td>1</td>\n",
              "      <td>0</td>\n",
              "      <td>35</td>\n",
              "      <td>0</td>\n",
              "      <td>0</td>\n",
              "      <td>0.0</td>\n",
              "      <td>0.0</td>\n",
              "      <td>0.0</td>\n",
              "    </tr>\n",
              "    <tr>\n",
              "      <th>2840</th>\n",
              "      <td>11.333333</td>\n",
              "      <td>2</td>\n",
              "      <td>11.666667</td>\n",
              "      <td>3</td>\n",
              "      <td>1</td>\n",
              "      <td>1</td>\n",
              "      <td>25</td>\n",
              "      <td>0</td>\n",
              "      <td>0</td>\n",
              "      <td>1.0</td>\n",
              "      <td>0.0</td>\n",
              "      <td>0.0</td>\n",
              "    </tr>\n",
              "    <tr>\n",
              "      <th>564</th>\n",
              "      <td>13.625000</td>\n",
              "      <td>6</td>\n",
              "      <td>14.166667</td>\n",
              "      <td>6</td>\n",
              "      <td>1</td>\n",
              "      <td>0</td>\n",
              "      <td>22</td>\n",
              "      <td>0</td>\n",
              "      <td>1</td>\n",
              "      <td>0.0</td>\n",
              "      <td>1.0</td>\n",
              "      <td>0.0</td>\n",
              "    </tr>\n",
              "    <tr>\n",
              "      <th>1786</th>\n",
              "      <td>0.000000</td>\n",
              "      <td>0</td>\n",
              "      <td>0.000000</td>\n",
              "      <td>0</td>\n",
              "      <td>1</td>\n",
              "      <td>0</td>\n",
              "      <td>42</td>\n",
              "      <td>0</td>\n",
              "      <td>1</td>\n",
              "      <td>1.0</td>\n",
              "      <td>0.0</td>\n",
              "      <td>0.0</td>\n",
              "    </tr>\n",
              "    <tr>\n",
              "      <th>3900</th>\n",
              "      <td>13.900000</td>\n",
              "      <td>6</td>\n",
              "      <td>13.900000</td>\n",
              "      <td>6</td>\n",
              "      <td>1</td>\n",
              "      <td>1</td>\n",
              "      <td>22</td>\n",
              "      <td>0</td>\n",
              "      <td>0</td>\n",
              "      <td>0.0</td>\n",
              "      <td>1.0</td>\n",
              "      <td>1.0</td>\n",
              "    </tr>\n",
              "  </tbody>\n",
              "</table>\n",
              "</div>"
            ],
            "text/plain": [
              "      Curricular units 2nd sem (grade)  Curricular units 2nd sem (approved)  \\\n",
              "3383                          0.000000                                    0   \n",
              "2840                         11.333333                                    2   \n",
              "564                          13.625000                                    6   \n",
              "1786                          0.000000                                    0   \n",
              "3900                         13.900000                                    6   \n",
              "\n",
              "      Curricular units 1st sem (grade)  Curricular units 1st sem (approved)  \\\n",
              "3383                          0.000000                                    0   \n",
              "2840                         11.666667                                    3   \n",
              "564                          14.166667                                    6   \n",
              "1786                          0.000000                                    0   \n",
              "3900                         13.900000                                    6   \n",
              "\n",
              "      Tuition fees up to date  Scholarship holder  Age at enrollment  Debtor  \\\n",
              "3383                        1                   0                 35       0   \n",
              "2840                        1                   1                 25       0   \n",
              "564                         1                   0                 22       0   \n",
              "1786                        1                   0                 42       0   \n",
              "3900                        1                   1                 22       0   \n",
              "\n",
              "      Gender  Application mode_39  Application mode_1  Course_9500  \n",
              "3383       0                  0.0                 0.0          0.0  \n",
              "2840       0                  1.0                 0.0          0.0  \n",
              "564        1                  0.0                 1.0          0.0  \n",
              "1786       1                  1.0                 0.0          0.0  \n",
              "3900       0                  0.0                 1.0          1.0  "
            ]
          },
          "execution_count": 18,
          "metadata": {},
          "output_type": "execute_result"
        }
      ],
      "source": [
        "X_train.head()"
      ]
    },
    {
      "cell_type": "code",
      "execution_count": 19,
      "metadata": {
        "colab": {
          "base_uri": "https://localhost:8080/"
        },
        "id": "u65uspOY0r9d",
        "outputId": "09740255-9e23-437e-9d70-8bb5d63e099a"
      },
      "outputs": [
        {
          "data": {
            "text/plain": [
              "array([1, 0, 0, 1, 0])"
            ]
          },
          "execution_count": 19,
          "metadata": {},
          "output_type": "execute_result"
        }
      ],
      "source": [
        "y_train[:5]"
      ]
    },
    {
      "cell_type": "code",
      "execution_count": 20,
      "metadata": {
        "colab": {
          "base_uri": "https://localhost:8080/"
        },
        "id": "diseVELd01UL",
        "outputId": "3e1a65df-54e8-4dfc-e329-e96144cb235b"
      },
      "outputs": [
        {
          "name": "stdout",
          "output_type": "stream",
          "text": [
            "<class 'pandas.core.frame.DataFrame'>\n",
            "Index: 3539 entries, 3383 to 860\n",
            "Data columns (total 12 columns):\n",
            " #   Column                               Non-Null Count  Dtype             \n",
            "---  ------                               --------------  -----             \n",
            " 0   Curricular units 2nd sem (grade)     3539 non-null   float64           \n",
            " 1   Curricular units 2nd sem (approved)  3539 non-null   int64             \n",
            " 2   Curricular units 1st sem (grade)     3539 non-null   float64           \n",
            " 3   Curricular units 1st sem (approved)  3539 non-null   int64             \n",
            " 4   Tuition fees up to date              3539 non-null   int64             \n",
            " 5   Scholarship holder                   3539 non-null   int64             \n",
            " 6   Age at enrollment                    3539 non-null   int64             \n",
            " 7   Debtor                               3539 non-null   int64             \n",
            " 8   Gender                               3539 non-null   int64             \n",
            " 9   Application mode_39                  3539 non-null   Sparse[float64, 0]\n",
            " 10  Application mode_1                   3539 non-null   Sparse[float64, 0]\n",
            " 11  Course_9500                          3539 non-null   Sparse[float64, 0]\n",
            "dtypes: Sparse[float64, 0](3), float64(2), int64(7)\n",
            "memory usage: 306.8 KB\n"
          ]
        }
      ],
      "source": [
        "X_train.info()"
      ]
    },
    {
      "cell_type": "markdown",
      "metadata": {
        "id": "iucoBaCb2URg"
      },
      "source": [
        "### Converting Sparse Columns in the Feature Vectors to Dense"
      ]
    },
    {
      "cell_type": "markdown",
      "metadata": {
        "id": "F3_quE40B3va"
      },
      "source": []
    },
    {
      "cell_type": "code",
      "execution_count": 21,
      "metadata": {
        "id": "RujnB3521Nnv"
      },
      "outputs": [],
      "source": [
        "X_train[[\"Application mode_39\", \"Application mode_1\", \"Course_9500\"]] = X_train[[\"Application mode_39\", \"Application mode_1\", \"Course_9500\"]].sparse.to_dense()"
      ]
    },
    {
      "cell_type": "code",
      "execution_count": 22,
      "metadata": {
        "id": "npnfEQol2gf5"
      },
      "outputs": [],
      "source": [
        "X_test[[\"Application mode_39\", \"Application mode_1\", \"Course_9500\"]] = X_test[[\"Application mode_39\", \"Application mode_1\", \"Course_9500\"]].sparse.to_dense()"
      ]
    },
    {
      "cell_type": "code",
      "execution_count": 23,
      "metadata": {
        "colab": {
          "base_uri": "https://localhost:8080/"
        },
        "id": "-e_bm0eC1Rt2",
        "outputId": "8e3fcbde-6acd-4400-da7d-726aa7b3499a"
      },
      "outputs": [
        {
          "name": "stdout",
          "output_type": "stream",
          "text": [
            "<class 'pandas.core.frame.DataFrame'>\n",
            "Index: 3539 entries, 3383 to 860\n",
            "Data columns (total 12 columns):\n",
            " #   Column                               Non-Null Count  Dtype  \n",
            "---  ------                               --------------  -----  \n",
            " 0   Curricular units 2nd sem (grade)     3539 non-null   float64\n",
            " 1   Curricular units 2nd sem (approved)  3539 non-null   int64  \n",
            " 2   Curricular units 1st sem (grade)     3539 non-null   float64\n",
            " 3   Curricular units 1st sem (approved)  3539 non-null   int64  \n",
            " 4   Tuition fees up to date              3539 non-null   int64  \n",
            " 5   Scholarship holder                   3539 non-null   int64  \n",
            " 6   Age at enrollment                    3539 non-null   int64  \n",
            " 7   Debtor                               3539 non-null   int64  \n",
            " 8   Gender                               3539 non-null   int64  \n",
            " 9   Application mode_39                  3539 non-null   float64\n",
            " 10  Application mode_1                   3539 non-null   float64\n",
            " 11  Course_9500                          3539 non-null   float64\n",
            "dtypes: float64(5), int64(7)\n",
            "memory usage: 359.4 KB\n"
          ]
        }
      ],
      "source": [
        "X_train.info()"
      ]
    },
    {
      "cell_type": "code",
      "execution_count": 24,
      "metadata": {
        "colab": {
          "base_uri": "https://localhost:8080/"
        },
        "id": "Nd6XQL7o2OH9",
        "outputId": "180ceb3c-d265-41c7-a2a8-63ac96bc1044"
      },
      "outputs": [
        {
          "name": "stdout",
          "output_type": "stream",
          "text": [
            "<class 'pandas.core.frame.DataFrame'>\n",
            "Index: 885 entries, 1255 to 1361\n",
            "Data columns (total 12 columns):\n",
            " #   Column                               Non-Null Count  Dtype  \n",
            "---  ------                               --------------  -----  \n",
            " 0   Curricular units 2nd sem (grade)     885 non-null    float64\n",
            " 1   Curricular units 2nd sem (approved)  885 non-null    int64  \n",
            " 2   Curricular units 1st sem (grade)     885 non-null    float64\n",
            " 3   Curricular units 1st sem (approved)  885 non-null    int64  \n",
            " 4   Tuition fees up to date              885 non-null    int64  \n",
            " 5   Scholarship holder                   885 non-null    int64  \n",
            " 6   Age at enrollment                    885 non-null    int64  \n",
            " 7   Debtor                               885 non-null    int64  \n",
            " 8   Gender                               885 non-null    int64  \n",
            " 9   Application mode_39                  885 non-null    float64\n",
            " 10  Application mode_1                   885 non-null    float64\n",
            " 11  Course_9500                          885 non-null    float64\n",
            "dtypes: float64(5), int64(7)\n",
            "memory usage: 89.9 KB\n"
          ]
        }
      ],
      "source": [
        "X_test.info()"
      ]
    },
    {
      "cell_type": "markdown",
      "metadata": {
        "id": "cpiIYq7v3ztD"
      },
      "source": [
        "# Testing Models"
      ]
    },
    {
      "cell_type": "markdown",
      "metadata": {
        "id": "4Hf4gKOw25ms"
      },
      "source": [
        "### Since the Dropout Dataset already had already undergone rigorous data cleaning by UC Irvine, there is no need to conduct it in this notebook."
      ]
    },
    {
      "cell_type": "markdown",
      "metadata": {
        "id": "xnjRJQefyUeo"
      },
      "source": [
        "### Scaling X_train to Improve Model Performance"
      ]
    },
    {
      "cell_type": "code",
      "execution_count": 25,
      "metadata": {
        "id": "rmlynTDZyanL"
      },
      "outputs": [],
      "source": [
        "from sklearn.preprocessing import StandardScaler\n",
        "\n",
        "scaler = StandardScaler()"
      ]
    },
    {
      "cell_type": "markdown",
      "metadata": {
        "id": "OVTDQPBpzN5u"
      },
      "source": [
        "Since several ML Algorithms are dependent on the scaling of their training data, we make a pipeline with a Standard Scaler for them."
      ]
    },
    {
      "cell_type": "markdown",
      "metadata": {
        "id": "UmlYr6HsAN_t"
      },
      "source": [
        "### Creating a List of Models we want to Test"
      ]
    },
    {
      "cell_type": "code",
      "execution_count": 26,
      "metadata": {
        "id": "EIa4A8mmzQVp"
      },
      "outputs": [],
      "source": [
        "from sklearn.pipeline import Pipeline\n",
        "from sklearn.linear_model import SGDClassifier\n",
        "from sklearn.linear_model import LogisticRegression\n",
        "from sklearn.svm import LinearSVC\n",
        "from sklearn.svm import SVC\n",
        "from sklearn.tree import DecisionTreeClassifier\n",
        "from sklearn.ensemble import RandomForestClassifier\n",
        "\n",
        "sgd_clf = Pipeline([\n",
        "    (\"scaler\", StandardScaler()),\n",
        "    (\"classifier\", SGDClassifier(random_state=42))\n",
        "])\n",
        "\n",
        "lr_clf = Pipeline([\n",
        "    (\"scaler\", StandardScaler()),\n",
        "    (\"classifier\", LogisticRegression(random_state=42))\n",
        "])\n",
        "\n",
        "lin_svm_clf = Pipeline([\n",
        "    (\"scaler\", StandardScaler()),\n",
        "    (\"classifier\", LinearSVC(dual=False, random_state=42))\n",
        "])\n",
        "\n",
        "svm_clf = Pipeline([\n",
        "    (\"scaler\", StandardScaler()),\n",
        "    (\"classifier\", SVC(kernel=\"rbf\", random_state=42))\n",
        "])\n",
        "\n",
        "dtree_clf = DecisionTreeClassifier(random_state=42)\n",
        "\n",
        "rf_clf = RandomForestClassifier(n_estimators=100, random_state=42)\n",
        "\n",
        "models = {\n",
        "    \"SGD Classifier\": sgd_clf,\n",
        "    \"Logistic Regression\": lr_clf,\n",
        "    \"Linear SVM\": lin_svm_clf,\n",
        "    \"Kernelized SVM\": svm_clf,\n",
        "    \"Decision Tree\": dtree_clf,\n",
        "    \"Random Forest\": rf_clf\n",
        "}"
      ]
    },
    {
      "cell_type": "markdown",
      "metadata": {
        "id": "HFE1p5Ot0zh5"
      },
      "source": [
        "### Training each Model on the Train Data and Scoring Accuracy on the Test Data"
      ]
    },
    {
      "cell_type": "code",
      "execution_count": 27,
      "metadata": {
        "id": "l7e-8eNu0zBM"
      },
      "outputs": [],
      "source": [
        "from sklearn.model_selection import cross_val_score\n",
        "\n",
        "def train_and_score(models, X_train, y_train):\n",
        "  \"\"\"\n",
        "  Trains each model in the model list provided and calculates the mean cross val score across 3 folds.\n",
        "  models : a dict of models\n",
        "  X_train : the train feature set\n",
        "  y_train : the train target set\n",
        "  X_test : the test feature set\n",
        "  y_test : the test target set\n",
        "  \"\"\"\n",
        "  scores = dict()\n",
        "  for name, model in models.items():\n",
        "    scores[name] = cross_val_score(model, X_train, y_train, cv=3, scoring=\"accuracy\").mean()\n",
        "  return scores\n"
      ]
    },
    {
      "cell_type": "code",
      "execution_count": 28,
      "metadata": {
        "colab": {
          "base_uri": "https://localhost:8080/"
        },
        "id": "qLfltKFPbchw",
        "outputId": "7881d750-347d-4621-a37d-cd8ec3897772"
      },
      "outputs": [
        {
          "data": {
            "text/plain": [
              "{'SGD Classifier': 0.8527838875231811,\n",
              " 'Logistic Regression': 0.857869112481611,\n",
              " 'Linear SVM': 0.8527836479253222,\n",
              " 'Kernelized SVM': 0.8640859581278781,\n",
              " 'Decision Tree': 0.7954255976768593,\n",
              " 'Random Forest': 0.8595654653230019}"
            ]
          },
          "execution_count": 28,
          "metadata": {},
          "output_type": "execute_result"
        }
      ],
      "source": [
        "train_and_score(models, X_train, y_train)"
      ]
    },
    {
      "cell_type": "markdown",
      "metadata": {
        "id": "GlE8iy9Lx13x"
      },
      "source": [
        "# Hyperparameter Tuning"
      ]
    },
    {
      "cell_type": "markdown",
      "metadata": {
        "id": "uYk35mLE6ci3"
      },
      "source": [
        "### The SGD Classifier does not appear to have hyperparameters to be tuned to espouse a meaningful gain in performance, so I have not tuned them."
      ]
    },
    {
      "cell_type": "markdown",
      "metadata": {
        "id": "uKBzXAp56t1I"
      },
      "source": [
        "### Creating a List of Parameters Dicts for each Model"
      ]
    },
    {
      "cell_type": "code",
      "execution_count": 29,
      "metadata": {
        "id": "wEptHT-BeADT"
      },
      "outputs": [],
      "source": [
        "from scipy.stats import loguniform, uniform\n",
        "\n",
        "params_list = [\n",
        "    dict(),\n",
        "    dict(),\n",
        "    {\"classifier__C\": uniform(1, 10)},\n",
        "    {\n",
        "      \"classifier__C\": uniform(1, 10),\n",
        "      \"classifier__gamma\": loguniform(.001, 10),\n",
        "    },\n",
        "    {\n",
        "      \"max_depth\": np.arange(1, 11),\n",
        "      \"min_samples_split\": np.arange(2, 11),\n",
        "      \"min_samples_leaf\": np.arange(1, 11),\n",
        "      \"max_leaf_nodes\": np.arange(1, 101)\n",
        "    },\n",
        "    {\n",
        "      \"n_estimators\": np.arange(10, 1000, 50),\n",
        "      \"max_depth\": np.arange(1, 11),\n",
        "      \"min_samples_split\": np.arange(2, 11),\n",
        "      \"min_samples_leaf\": np.arange(1, 11),\n",
        "      \"max_leaf_nodes\": np.arange(1, 100)\n",
        "    }\n",
        "]"
      ]
    },
    {
      "cell_type": "markdown",
      "metadata": {
        "id": "Tv2ZioejenFA"
      },
      "source": [
        "### Creating a Function to Tune Hyperparameters for each Model, display their performance, and store the best estimators."
      ]
    },
    {
      "cell_type": "code",
      "execution_count": 30,
      "metadata": {
        "id": "5972iRA3e9BH"
      },
      "outputs": [],
      "source": [
        "from sklearn.model_selection import RandomizedSearchCV\n",
        "\n",
        "def model_tune_and_score(models, params_list, X_train, y_train, X_test, y_test):\n",
        "  \"\"\"\n",
        "  Runs RandomSearchCV to tune the hyperparameters for each model,\n",
        "  store and output the tuned models,\n",
        "  and print the models' corresponing scores.\n",
        "  models : a dict of models\n",
        "  params_list : a list of parameter distributions for each model in models\n",
        "  X_train : the train feature set\n",
        "  y_train : the train target set\n",
        "  X_test : the test feature set\n",
        "  y_test : the test target set\n",
        "  \"\"\"\n",
        "  models_keys = list(models.keys())\n",
        "  tuned_models = dict()\n",
        "  for i in range(len(models_keys)):\n",
        "    model_key = models_keys[i]\n",
        "    model = models[model_key]\n",
        "    params = params_list[i]\n",
        "    if(len(params) == 0):\n",
        "      tuned_models[model_key] = model\n",
        "      print(cross_val_score(model, X_train, y_train, cv=3, scoring=\"accuracy\").mean())\n",
        "    else:\n",
        "      model_rand_search = RandomizedSearchCV(model, param_distributions=params, n_iter=30, cv=3, random_state=42)\n",
        "      model_rand_search.fit(X_train, y_train)\n",
        "      tuned_model = model_rand_search.best_estimator_\n",
        "      tuned_models[model_key] = tuned_model\n",
        "      print(cross_val_score(tuned_model, X_train, y_train, cv=3, scoring=\"accuracy\").mean())\n",
        "  return tuned_models"
      ]
    },
    {
      "cell_type": "code",
      "execution_count": 31,
      "metadata": {
        "colab": {
          "base_uri": "https://localhost:8080/"
        },
        "id": "SxNcq-Igx-s4",
        "outputId": "80f912e7-cb24-411d-e2fe-0714c1a7cfa0"
      },
      "outputs": [
        {
          "name": "stdout",
          "output_type": "stream",
          "text": [
            "0.8527838875231811\n",
            "0.857869112481611\n",
            "0.8527836479253222\n",
            "0.8621071194107809\n",
            "0.8598489095901439\n"
          ]
        },
        {
          "name": "stderr",
          "output_type": "stream",
          "text": [
            "c:\\Users\\AtlasUser\\AppData\\Local\\Programs\\Python\\Python311\\Lib\\site-packages\\sklearn\\model_selection\\_validation.py:540: FitFailedWarning: \n",
            "3 fits failed out of a total of 90.\n",
            "The score on these train-test partitions for these parameters will be set to nan.\n",
            "If these failures are not expected, you can try to debug them by setting error_score='raise'.\n",
            "\n",
            "Below are more details about the failures:\n",
            "--------------------------------------------------------------------------------\n",
            "3 fits failed with the following error:\n",
            "Traceback (most recent call last):\n",
            "  File \"c:\\Users\\AtlasUser\\AppData\\Local\\Programs\\Python\\Python311\\Lib\\site-packages\\sklearn\\model_selection\\_validation.py\", line 888, in _fit_and_score\n",
            "    estimator.fit(X_train, y_train, **fit_params)\n",
            "  File \"c:\\Users\\AtlasUser\\AppData\\Local\\Programs\\Python\\Python311\\Lib\\site-packages\\sklearn\\base.py\", line 1466, in wrapper\n",
            "    estimator._validate_params()\n",
            "  File \"c:\\Users\\AtlasUser\\AppData\\Local\\Programs\\Python\\Python311\\Lib\\site-packages\\sklearn\\base.py\", line 666, in _validate_params\n",
            "    validate_parameter_constraints(\n",
            "  File \"c:\\Users\\AtlasUser\\AppData\\Local\\Programs\\Python\\Python311\\Lib\\site-packages\\sklearn\\utils\\_param_validation.py\", line 95, in validate_parameter_constraints\n",
            "    raise InvalidParameterError(\n",
            "sklearn.utils._param_validation.InvalidParameterError: The 'max_leaf_nodes' parameter of RandomForestClassifier must be an int in the range [2, inf) or None. Got 1 instead.\n",
            "\n",
            "  warnings.warn(some_fits_failed_message, FitFailedWarning)\n",
            "c:\\Users\\AtlasUser\\AppData\\Local\\Programs\\Python\\Python311\\Lib\\site-packages\\sklearn\\model_selection\\_search.py:1052: UserWarning: One or more of the test scores are non-finite: [0.82622159 0.86126158 0.82650408 0.86380443 0.84572006 0.86691321\n",
            " 0.82622159 0.85928346 0.86352266 0.8267868  0.86634776 0.86578207\n",
            " 0.86549983 0.86380491 0.82735201 0.86521734 0.84685001 0.82819971\n",
            " 0.84600279 0.86352242 0.8632397  0.86747818 0.86691273 0.84628527\n",
            "        nan 0.8640874  0.82763474 0.86521806 0.86041316 0.84515509]\n",
            "  warnings.warn(\n"
          ]
        },
        {
          "name": "stdout",
          "output_type": "stream",
          "text": [
            "0.8674781846149422\n"
          ]
        }
      ],
      "source": [
        "tuned_models = model_tune_and_score(models, params_list, X_train, y_train, X_test, y_test)"
      ]
    },
    {
      "cell_type": "code",
      "execution_count": 32,
      "metadata": {
        "colab": {
          "base_uri": "https://localhost:8080/"
        },
        "id": "hon7BHfewlrU",
        "outputId": "d266ab30-d785-4f04-e9c7-dfff6c494a9a"
      },
      "outputs": [
        {
          "name": "stdout",
          "output_type": "stream",
          "text": [
            "SGD Classifier: 0.8259887005649718\n",
            "Logistic Regression: 0.8384180790960452\n",
            "Linear SVM: 0.831638418079096\n",
            "Kernelized SVM: 0.8406779661016949\n",
            "Decision Tree: 0.8361581920903954\n",
            "Random Forest: 0.8372881355932204\n"
          ]
        }
      ],
      "source": [
        "for key, model in tuned_models.items():\n",
        "  model.fit(X_train, y_train)\n",
        "  print(f\"{key}: {model.score(X_test, y_test)}\")"
      ]
    },
    {
      "cell_type": "markdown",
      "metadata": {
        "id": "84KW-Mp5tpdM"
      },
      "source": [
        "# Ensemble Testing"
      ]
    },
    {
      "cell_type": "markdown",
      "metadata": {
        "id": "-I9Bw30P8e1a"
      },
      "source": [
        "### Removing Pipeline Labels from the SVM Classifiers"
      ]
    },
    {
      "cell_type": "code",
      "execution_count": 33,
      "metadata": {
        "id": "o_qpELmK3WUW"
      },
      "outputs": [
        {
          "data": {
            "text/plain": [
              "('rf', RandomForestClassifier(random_state=42))"
            ]
          },
          "execution_count": 33,
          "metadata": {},
          "output_type": "execute_result"
        }
      ],
      "source": [
        "(\"sgd\", tuned_models[\"SGD Classifier\"]),\n",
        "(\"lr\", tuned_models[\"Logistic Regression\"]),\n",
        "(\"lin_svm\", tuned_models[\"Linear SVM\"]),\n",
        "(\"svm\", tuned_models[\"Kernelized SVM\"]),\n",
        "(\"dtree\", tuned_models[\"Decision Tree\"]),\n",
        "(\"rf\", tuned_models[\"Random Forest\"])\n",
        "\n",
        "\n",
        "(\"sgd\", SGDClassifier(random_state=42)),\n",
        "(\"lin_svm\", LinearSVC(random_state=42)),\n",
        "(\"svm\", SVC(random_state=42)),\n",
        "(\"dtree\", DecisionTreeClassifier(random_state=42)),\n",
        "(\"rf\", RandomForestClassifier(random_state=42))"
      ]
    },
    {
      "cell_type": "markdown",
      "metadata": {
        "id": "1La_07Fmu1--"
      },
      "source": [
        "### Voting Classifier"
      ]
    },
    {
      "cell_type": "code",
      "execution_count": 34,
      "metadata": {
        "colab": {
          "base_uri": "https://localhost:8080/"
        },
        "id": "QAq8xqFt0wg6",
        "outputId": "1b883229-8fd6-4510-def5-8d6fd09cce5c"
      },
      "outputs": [
        {
          "data": {
            "text/plain": [
              "0.8621080778022168"
            ]
          },
          "execution_count": 34,
          "metadata": {},
          "output_type": "execute_result"
        }
      ],
      "source": [
        "from sklearn.ensemble import VotingClassifier\n",
        "\n",
        "voting_clf = VotingClassifier(\n",
        "    estimators=[\n",
        "        (\"sgd\", tuned_models[\"SGD Classifier\"]),\n",
        "        (\"lr\", tuned_models[\"Logistic Regression\"]),\n",
        "        (\"lin_svm\", tuned_models[\"Linear SVM\"]),\n",
        "        (\"svm\", tuned_models[\"Kernelized SVM\"]),\n",
        "        (\"dtree\", tuned_models[\"Decision Tree\"]),\n",
        "        (\"rf\", tuned_models[\"Random Forest\"])\n",
        "    ]\n",
        ")\n",
        "\n",
        "cross_val_score(voting_clf, X_train, y_train, cv=3, scoring=\"accuracy\").mean()"
      ]
    },
    {
      "cell_type": "code",
      "execution_count": 35,
      "metadata": {
        "colab": {
          "base_uri": "https://localhost:8080/"
        },
        "id": "EOI9QijHv5T9",
        "outputId": "8f44526f-d2f2-462e-d5b4-dd17c011e747"
      },
      "outputs": [
        {
          "data": {
            "text/plain": [
              "0.8361581920903954"
            ]
          },
          "execution_count": 35,
          "metadata": {},
          "output_type": "execute_result"
        }
      ],
      "source": [
        "voting_clf.fit(X_train, y_train)\n",
        "voting_clf.score(X_test, y_test)"
      ]
    },
    {
      "cell_type": "markdown",
      "metadata": {
        "id": "8PaLFgMPGV8C"
      },
      "source": [
        "### Bagging Classifier"
      ]
    },
    {
      "cell_type": "code",
      "execution_count": 36,
      "metadata": {
        "colab": {
          "base_uri": "https://localhost:8080/"
        },
        "id": "gOKvu92CH0fx",
        "outputId": "a560b898-3700-4537-e79f-2413e653468c"
      },
      "outputs": [
        {
          "data": {
            "text/plain": [
              "0.8623898448843462"
            ]
          },
          "execution_count": 36,
          "metadata": {},
          "output_type": "execute_result"
        }
      ],
      "source": [
        "from sklearn.ensemble import BaggingClassifier\n",
        "\n",
        "bagging_clf = BaggingClassifier(\n",
        "    estimator=tuned_models[\"Kernelized SVM\"],\n",
        "    n_estimators=1000,\n",
        "    max_samples=500,\n",
        "    random_state=42\n",
        ")\n",
        "\n",
        "cross_val_score(bagging_clf, X_train, y_train, cv=3, scoring=\"accuracy\").mean()"
      ]
    },
    {
      "cell_type": "code",
      "execution_count": 37,
      "metadata": {
        "colab": {
          "base_uri": "https://localhost:8080/"
        },
        "id": "RbyN1qpQwCb1",
        "outputId": "19eaf3f5-6bb8-435f-8c4b-0572af01ed3d"
      },
      "outputs": [
        {
          "data": {
            "text/plain": [
              "0.8429378531073446"
            ]
          },
          "execution_count": 37,
          "metadata": {},
          "output_type": "execute_result"
        }
      ],
      "source": [
        "bagging_clf.fit(X_train, y_train)\n",
        "bagging_clf.score(X_test, y_test)"
      ]
    },
    {
      "cell_type": "code",
      "execution_count": 38,
      "metadata": {
        "id": "NbHYMxpqMKlB"
      },
      "outputs": [
        {
          "name": "stderr",
          "output_type": "stream",
          "text": [
            "c:\\Users\\AtlasUser\\AppData\\Local\\Programs\\Python\\Python311\\Lib\\site-packages\\xgboost\\core.py:160: UserWarning: [11:17:00] WARNING: C:\\buildkite-agent\\builds\\buildkite-windows-cpu-autoscaling-group-i-0b3782d1791676daf-1\\xgboost\\xgboost-ci-windows\\src\\learner.cc:742: \n",
            "Parameters: { \"max_leaf_nodes\", \"min_samples_leaf\", \"min_samples_split\" } are not used.\n",
            "\n",
            "  warnings.warn(smsg, UserWarning)\n",
            "c:\\Users\\AtlasUser\\AppData\\Local\\Programs\\Python\\Python311\\Lib\\site-packages\\xgboost\\core.py:160: UserWarning: [11:17:00] WARNING: C:\\buildkite-agent\\builds\\buildkite-windows-cpu-autoscaling-group-i-0b3782d1791676daf-1\\xgboost\\xgboost-ci-windows\\src\\learner.cc:742: \n",
            "Parameters: { \"max_leaf_nodes\", \"min_samples_leaf\", \"min_samples_split\" } are not used.\n",
            "\n",
            "  warnings.warn(smsg, UserWarning)\n",
            "c:\\Users\\AtlasUser\\AppData\\Local\\Programs\\Python\\Python311\\Lib\\site-packages\\xgboost\\core.py:160: UserWarning: [11:17:01] WARNING: C:\\buildkite-agent\\builds\\buildkite-windows-cpu-autoscaling-group-i-0b3782d1791676daf-1\\xgboost\\xgboost-ci-windows\\src\\learner.cc:742: \n",
            "Parameters: { \"max_leaf_nodes\", \"min_samples_leaf\", \"min_samples_split\" } are not used.\n",
            "\n",
            "  warnings.warn(smsg, UserWarning)\n",
            "c:\\Users\\AtlasUser\\AppData\\Local\\Programs\\Python\\Python311\\Lib\\site-packages\\xgboost\\core.py:160: UserWarning: [11:17:01] WARNING: C:\\buildkite-agent\\builds\\buildkite-windows-cpu-autoscaling-group-i-0b3782d1791676daf-1\\xgboost\\xgboost-ci-windows\\src\\learner.cc:742: \n",
            "Parameters: { \"max_leaf_nodes\", \"min_samples_leaf\", \"min_samples_split\" } are not used.\n",
            "\n",
            "  warnings.warn(smsg, UserWarning)\n",
            "c:\\Users\\AtlasUser\\AppData\\Local\\Programs\\Python\\Python311\\Lib\\site-packages\\xgboost\\core.py:160: UserWarning: [11:17:02] WARNING: C:\\buildkite-agent\\builds\\buildkite-windows-cpu-autoscaling-group-i-0b3782d1791676daf-1\\xgboost\\xgboost-ci-windows\\src\\learner.cc:742: \n",
            "Parameters: { \"max_leaf_nodes\", \"min_samples_leaf\", \"min_samples_split\" } are not used.\n",
            "\n",
            "  warnings.warn(smsg, UserWarning)\n",
            "c:\\Users\\AtlasUser\\AppData\\Local\\Programs\\Python\\Python311\\Lib\\site-packages\\xgboost\\core.py:160: UserWarning: [11:17:03] WARNING: C:\\buildkite-agent\\builds\\buildkite-windows-cpu-autoscaling-group-i-0b3782d1791676daf-1\\xgboost\\xgboost-ci-windows\\src\\learner.cc:742: \n",
            "Parameters: { \"max_leaf_nodes\", \"min_samples_leaf\", \"min_samples_split\" } are not used.\n",
            "\n",
            "  warnings.warn(smsg, UserWarning)\n",
            "c:\\Users\\AtlasUser\\AppData\\Local\\Programs\\Python\\Python311\\Lib\\site-packages\\xgboost\\core.py:160: UserWarning: [11:17:03] WARNING: C:\\buildkite-agent\\builds\\buildkite-windows-cpu-autoscaling-group-i-0b3782d1791676daf-1\\xgboost\\xgboost-ci-windows\\src\\learner.cc:742: \n",
            "Parameters: { \"max_leaf_nodes\", \"min_samples_leaf\", \"min_samples_split\" } are not used.\n",
            "\n",
            "  warnings.warn(smsg, UserWarning)\n",
            "c:\\Users\\AtlasUser\\AppData\\Local\\Programs\\Python\\Python311\\Lib\\site-packages\\xgboost\\core.py:160: UserWarning: [11:17:04] WARNING: C:\\buildkite-agent\\builds\\buildkite-windows-cpu-autoscaling-group-i-0b3782d1791676daf-1\\xgboost\\xgboost-ci-windows\\src\\learner.cc:742: \n",
            "Parameters: { \"max_leaf_nodes\", \"min_samples_leaf\", \"min_samples_split\" } are not used.\n",
            "\n",
            "  warnings.warn(smsg, UserWarning)\n",
            "c:\\Users\\AtlasUser\\AppData\\Local\\Programs\\Python\\Python311\\Lib\\site-packages\\xgboost\\core.py:160: UserWarning: [11:17:04] WARNING: C:\\buildkite-agent\\builds\\buildkite-windows-cpu-autoscaling-group-i-0b3782d1791676daf-1\\xgboost\\xgboost-ci-windows\\src\\learner.cc:742: \n",
            "Parameters: { \"max_leaf_nodes\", \"min_samples_leaf\", \"min_samples_split\" } are not used.\n",
            "\n",
            "  warnings.warn(smsg, UserWarning)\n",
            "c:\\Users\\AtlasUser\\AppData\\Local\\Programs\\Python\\Python311\\Lib\\site-packages\\xgboost\\core.py:160: UserWarning: [11:17:04] WARNING: C:\\buildkite-agent\\builds\\buildkite-windows-cpu-autoscaling-group-i-0b3782d1791676daf-1\\xgboost\\xgboost-ci-windows\\src\\learner.cc:742: \n",
            "Parameters: { \"max_leaf_nodes\", \"min_samples_leaf\", \"min_samples_split\" } are not used.\n",
            "\n",
            "  warnings.warn(smsg, UserWarning)\n",
            "c:\\Users\\AtlasUser\\AppData\\Local\\Programs\\Python\\Python311\\Lib\\site-packages\\xgboost\\core.py:160: UserWarning: [11:17:05] WARNING: C:\\buildkite-agent\\builds\\buildkite-windows-cpu-autoscaling-group-i-0b3782d1791676daf-1\\xgboost\\xgboost-ci-windows\\src\\learner.cc:742: \n",
            "Parameters: { \"max_leaf_nodes\", \"min_samples_leaf\", \"min_samples_split\" } are not used.\n",
            "\n",
            "  warnings.warn(smsg, UserWarning)\n",
            "c:\\Users\\AtlasUser\\AppData\\Local\\Programs\\Python\\Python311\\Lib\\site-packages\\xgboost\\core.py:160: UserWarning: [11:17:06] WARNING: C:\\buildkite-agent\\builds\\buildkite-windows-cpu-autoscaling-group-i-0b3782d1791676daf-1\\xgboost\\xgboost-ci-windows\\src\\learner.cc:742: \n",
            "Parameters: { \"max_leaf_nodes\", \"min_samples_leaf\", \"min_samples_split\" } are not used.\n",
            "\n",
            "  warnings.warn(smsg, UserWarning)\n",
            "c:\\Users\\AtlasUser\\AppData\\Local\\Programs\\Python\\Python311\\Lib\\site-packages\\xgboost\\core.py:160: UserWarning: [11:17:07] WARNING: C:\\buildkite-agent\\builds\\buildkite-windows-cpu-autoscaling-group-i-0b3782d1791676daf-1\\xgboost\\xgboost-ci-windows\\src\\learner.cc:742: \n",
            "Parameters: { \"max_leaf_nodes\", \"min_samples_leaf\", \"min_samples_split\" } are not used.\n",
            "\n",
            "  warnings.warn(smsg, UserWarning)\n",
            "c:\\Users\\AtlasUser\\AppData\\Local\\Programs\\Python\\Python311\\Lib\\site-packages\\xgboost\\core.py:160: UserWarning: [11:17:08] WARNING: C:\\buildkite-agent\\builds\\buildkite-windows-cpu-autoscaling-group-i-0b3782d1791676daf-1\\xgboost\\xgboost-ci-windows\\src\\learner.cc:742: \n",
            "Parameters: { \"max_leaf_nodes\", \"min_samples_leaf\", \"min_samples_split\" } are not used.\n",
            "\n",
            "  warnings.warn(smsg, UserWarning)\n",
            "c:\\Users\\AtlasUser\\AppData\\Local\\Programs\\Python\\Python311\\Lib\\site-packages\\xgboost\\core.py:160: UserWarning: [11:17:09] WARNING: C:\\buildkite-agent\\builds\\buildkite-windows-cpu-autoscaling-group-i-0b3782d1791676daf-1\\xgboost\\xgboost-ci-windows\\src\\learner.cc:742: \n",
            "Parameters: { \"max_leaf_nodes\", \"min_samples_leaf\", \"min_samples_split\" } are not used.\n",
            "\n",
            "  warnings.warn(smsg, UserWarning)\n",
            "c:\\Users\\AtlasUser\\AppData\\Local\\Programs\\Python\\Python311\\Lib\\site-packages\\xgboost\\core.py:160: UserWarning: [11:17:10] WARNING: C:\\buildkite-agent\\builds\\buildkite-windows-cpu-autoscaling-group-i-0b3782d1791676daf-1\\xgboost\\xgboost-ci-windows\\src\\learner.cc:742: \n",
            "Parameters: { \"max_leaf_nodes\", \"min_samples_leaf\", \"min_samples_split\" } are not used.\n",
            "\n",
            "  warnings.warn(smsg, UserWarning)\n",
            "c:\\Users\\AtlasUser\\AppData\\Local\\Programs\\Python\\Python311\\Lib\\site-packages\\xgboost\\core.py:160: UserWarning: [11:17:10] WARNING: C:\\buildkite-agent\\builds\\buildkite-windows-cpu-autoscaling-group-i-0b3782d1791676daf-1\\xgboost\\xgboost-ci-windows\\src\\learner.cc:742: \n",
            "Parameters: { \"max_leaf_nodes\", \"min_samples_leaf\", \"min_samples_split\" } are not used.\n",
            "\n",
            "  warnings.warn(smsg, UserWarning)\n",
            "c:\\Users\\AtlasUser\\AppData\\Local\\Programs\\Python\\Python311\\Lib\\site-packages\\xgboost\\core.py:160: UserWarning: [11:17:10] WARNING: C:\\buildkite-agent\\builds\\buildkite-windows-cpu-autoscaling-group-i-0b3782d1791676daf-1\\xgboost\\xgboost-ci-windows\\src\\learner.cc:742: \n",
            "Parameters: { \"max_leaf_nodes\", \"min_samples_leaf\", \"min_samples_split\" } are not used.\n",
            "\n",
            "  warnings.warn(smsg, UserWarning)\n",
            "c:\\Users\\AtlasUser\\AppData\\Local\\Programs\\Python\\Python311\\Lib\\site-packages\\xgboost\\core.py:160: UserWarning: [11:17:10] WARNING: C:\\buildkite-agent\\builds\\buildkite-windows-cpu-autoscaling-group-i-0b3782d1791676daf-1\\xgboost\\xgboost-ci-windows\\src\\learner.cc:742: \n",
            "Parameters: { \"max_leaf_nodes\", \"min_samples_leaf\", \"min_samples_split\" } are not used.\n",
            "\n",
            "  warnings.warn(smsg, UserWarning)\n",
            "c:\\Users\\AtlasUser\\AppData\\Local\\Programs\\Python\\Python311\\Lib\\site-packages\\xgboost\\core.py:160: UserWarning: [11:17:10] WARNING: C:\\buildkite-agent\\builds\\buildkite-windows-cpu-autoscaling-group-i-0b3782d1791676daf-1\\xgboost\\xgboost-ci-windows\\src\\learner.cc:742: \n",
            "Parameters: { \"max_leaf_nodes\", \"min_samples_leaf\", \"min_samples_split\" } are not used.\n",
            "\n",
            "  warnings.warn(smsg, UserWarning)\n",
            "c:\\Users\\AtlasUser\\AppData\\Local\\Programs\\Python\\Python311\\Lib\\site-packages\\xgboost\\core.py:160: UserWarning: [11:17:10] WARNING: C:\\buildkite-agent\\builds\\buildkite-windows-cpu-autoscaling-group-i-0b3782d1791676daf-1\\xgboost\\xgboost-ci-windows\\src\\learner.cc:742: \n",
            "Parameters: { \"max_leaf_nodes\", \"min_samples_leaf\", \"min_samples_split\" } are not used.\n",
            "\n",
            "  warnings.warn(smsg, UserWarning)\n",
            "c:\\Users\\AtlasUser\\AppData\\Local\\Programs\\Python\\Python311\\Lib\\site-packages\\xgboost\\core.py:160: UserWarning: [11:17:11] WARNING: C:\\buildkite-agent\\builds\\buildkite-windows-cpu-autoscaling-group-i-0b3782d1791676daf-1\\xgboost\\xgboost-ci-windows\\src\\learner.cc:742: \n",
            "Parameters: { \"max_leaf_nodes\", \"min_samples_leaf\", \"min_samples_split\" } are not used.\n",
            "\n",
            "  warnings.warn(smsg, UserWarning)\n",
            "c:\\Users\\AtlasUser\\AppData\\Local\\Programs\\Python\\Python311\\Lib\\site-packages\\xgboost\\core.py:160: UserWarning: [11:17:11] WARNING: C:\\buildkite-agent\\builds\\buildkite-windows-cpu-autoscaling-group-i-0b3782d1791676daf-1\\xgboost\\xgboost-ci-windows\\src\\learner.cc:742: \n",
            "Parameters: { \"max_leaf_nodes\", \"min_samples_leaf\", \"min_samples_split\" } are not used.\n",
            "\n",
            "  warnings.warn(smsg, UserWarning)\n",
            "c:\\Users\\AtlasUser\\AppData\\Local\\Programs\\Python\\Python311\\Lib\\site-packages\\xgboost\\core.py:160: UserWarning: [11:17:12] WARNING: C:\\buildkite-agent\\builds\\buildkite-windows-cpu-autoscaling-group-i-0b3782d1791676daf-1\\xgboost\\xgboost-ci-windows\\src\\learner.cc:742: \n",
            "Parameters: { \"max_leaf_nodes\", \"min_samples_leaf\", \"min_samples_split\" } are not used.\n",
            "\n",
            "  warnings.warn(smsg, UserWarning)\n",
            "c:\\Users\\AtlasUser\\AppData\\Local\\Programs\\Python\\Python311\\Lib\\site-packages\\xgboost\\core.py:160: UserWarning: [11:17:12] WARNING: C:\\buildkite-agent\\builds\\buildkite-windows-cpu-autoscaling-group-i-0b3782d1791676daf-1\\xgboost\\xgboost-ci-windows\\src\\learner.cc:742: \n",
            "Parameters: { \"max_leaf_nodes\", \"min_samples_leaf\", \"min_samples_split\" } are not used.\n",
            "\n",
            "  warnings.warn(smsg, UserWarning)\n",
            "c:\\Users\\AtlasUser\\AppData\\Local\\Programs\\Python\\Python311\\Lib\\site-packages\\xgboost\\core.py:160: UserWarning: [11:17:12] WARNING: C:\\buildkite-agent\\builds\\buildkite-windows-cpu-autoscaling-group-i-0b3782d1791676daf-1\\xgboost\\xgboost-ci-windows\\src\\learner.cc:742: \n",
            "Parameters: { \"max_leaf_nodes\", \"min_samples_leaf\", \"min_samples_split\" } are not used.\n",
            "\n",
            "  warnings.warn(smsg, UserWarning)\n",
            "c:\\Users\\AtlasUser\\AppData\\Local\\Programs\\Python\\Python311\\Lib\\site-packages\\xgboost\\core.py:160: UserWarning: [11:17:12] WARNING: C:\\buildkite-agent\\builds\\buildkite-windows-cpu-autoscaling-group-i-0b3782d1791676daf-1\\xgboost\\xgboost-ci-windows\\src\\learner.cc:742: \n",
            "Parameters: { \"max_leaf_nodes\", \"min_samples_leaf\", \"min_samples_split\" } are not used.\n",
            "\n",
            "  warnings.warn(smsg, UserWarning)\n",
            "c:\\Users\\AtlasUser\\AppData\\Local\\Programs\\Python\\Python311\\Lib\\site-packages\\xgboost\\core.py:160: UserWarning: [11:17:13] WARNING: C:\\buildkite-agent\\builds\\buildkite-windows-cpu-autoscaling-group-i-0b3782d1791676daf-1\\xgboost\\xgboost-ci-windows\\src\\learner.cc:742: \n",
            "Parameters: { \"max_leaf_nodes\", \"min_samples_leaf\", \"min_samples_split\" } are not used.\n",
            "\n",
            "  warnings.warn(smsg, UserWarning)\n",
            "c:\\Users\\AtlasUser\\AppData\\Local\\Programs\\Python\\Python311\\Lib\\site-packages\\xgboost\\core.py:160: UserWarning: [11:17:13] WARNING: C:\\buildkite-agent\\builds\\buildkite-windows-cpu-autoscaling-group-i-0b3782d1791676daf-1\\xgboost\\xgboost-ci-windows\\src\\learner.cc:742: \n",
            "Parameters: { \"max_leaf_nodes\", \"min_samples_leaf\", \"min_samples_split\" } are not used.\n",
            "\n",
            "  warnings.warn(smsg, UserWarning)\n",
            "c:\\Users\\AtlasUser\\AppData\\Local\\Programs\\Python\\Python311\\Lib\\site-packages\\xgboost\\core.py:160: UserWarning: [11:17:14] WARNING: C:\\buildkite-agent\\builds\\buildkite-windows-cpu-autoscaling-group-i-0b3782d1791676daf-1\\xgboost\\xgboost-ci-windows\\src\\learner.cc:742: \n",
            "Parameters: { \"max_leaf_nodes\", \"min_samples_leaf\", \"min_samples_split\" } are not used.\n",
            "\n",
            "  warnings.warn(smsg, UserWarning)\n",
            "c:\\Users\\AtlasUser\\AppData\\Local\\Programs\\Python\\Python311\\Lib\\site-packages\\xgboost\\core.py:160: UserWarning: [11:17:14] WARNING: C:\\buildkite-agent\\builds\\buildkite-windows-cpu-autoscaling-group-i-0b3782d1791676daf-1\\xgboost\\xgboost-ci-windows\\src\\learner.cc:742: \n",
            "Parameters: { \"max_leaf_nodes\", \"min_samples_leaf\", \"min_samples_split\" } are not used.\n",
            "\n",
            "  warnings.warn(smsg, UserWarning)\n",
            "c:\\Users\\AtlasUser\\AppData\\Local\\Programs\\Python\\Python311\\Lib\\site-packages\\xgboost\\core.py:160: UserWarning: [11:17:15] WARNING: C:\\buildkite-agent\\builds\\buildkite-windows-cpu-autoscaling-group-i-0b3782d1791676daf-1\\xgboost\\xgboost-ci-windows\\src\\learner.cc:742: \n",
            "Parameters: { \"max_leaf_nodes\", \"min_samples_leaf\", \"min_samples_split\" } are not used.\n",
            "\n",
            "  warnings.warn(smsg, UserWarning)\n",
            "c:\\Users\\AtlasUser\\AppData\\Local\\Programs\\Python\\Python311\\Lib\\site-packages\\xgboost\\core.py:160: UserWarning: [11:17:16] WARNING: C:\\buildkite-agent\\builds\\buildkite-windows-cpu-autoscaling-group-i-0b3782d1791676daf-1\\xgboost\\xgboost-ci-windows\\src\\learner.cc:742: \n",
            "Parameters: { \"max_leaf_nodes\", \"min_samples_leaf\", \"min_samples_split\" } are not used.\n",
            "\n",
            "  warnings.warn(smsg, UserWarning)\n",
            "c:\\Users\\AtlasUser\\AppData\\Local\\Programs\\Python\\Python311\\Lib\\site-packages\\xgboost\\core.py:160: UserWarning: [11:17:17] WARNING: C:\\buildkite-agent\\builds\\buildkite-windows-cpu-autoscaling-group-i-0b3782d1791676daf-1\\xgboost\\xgboost-ci-windows\\src\\learner.cc:742: \n",
            "Parameters: { \"max_leaf_nodes\", \"min_samples_leaf\", \"min_samples_split\" } are not used.\n",
            "\n",
            "  warnings.warn(smsg, UserWarning)\n",
            "c:\\Users\\AtlasUser\\AppData\\Local\\Programs\\Python\\Python311\\Lib\\site-packages\\xgboost\\core.py:160: UserWarning: [11:17:17] WARNING: C:\\buildkite-agent\\builds\\buildkite-windows-cpu-autoscaling-group-i-0b3782d1791676daf-1\\xgboost\\xgboost-ci-windows\\src\\learner.cc:742: \n",
            "Parameters: { \"max_leaf_nodes\", \"min_samples_leaf\", \"min_samples_split\" } are not used.\n",
            "\n",
            "  warnings.warn(smsg, UserWarning)\n",
            "c:\\Users\\AtlasUser\\AppData\\Local\\Programs\\Python\\Python311\\Lib\\site-packages\\xgboost\\core.py:160: UserWarning: [11:17:18] WARNING: C:\\buildkite-agent\\builds\\buildkite-windows-cpu-autoscaling-group-i-0b3782d1791676daf-1\\xgboost\\xgboost-ci-windows\\src\\learner.cc:742: \n",
            "Parameters: { \"max_leaf_nodes\", \"min_samples_leaf\", \"min_samples_split\" } are not used.\n",
            "\n",
            "  warnings.warn(smsg, UserWarning)\n",
            "c:\\Users\\AtlasUser\\AppData\\Local\\Programs\\Python\\Python311\\Lib\\site-packages\\xgboost\\core.py:160: UserWarning: [11:17:18] WARNING: C:\\buildkite-agent\\builds\\buildkite-windows-cpu-autoscaling-group-i-0b3782d1791676daf-1\\xgboost\\xgboost-ci-windows\\src\\learner.cc:742: \n",
            "Parameters: { \"max_leaf_nodes\", \"min_samples_leaf\", \"min_samples_split\" } are not used.\n",
            "\n",
            "  warnings.warn(smsg, UserWarning)\n",
            "c:\\Users\\AtlasUser\\AppData\\Local\\Programs\\Python\\Python311\\Lib\\site-packages\\xgboost\\core.py:160: UserWarning: [11:17:19] WARNING: C:\\buildkite-agent\\builds\\buildkite-windows-cpu-autoscaling-group-i-0b3782d1791676daf-1\\xgboost\\xgboost-ci-windows\\src\\learner.cc:742: \n",
            "Parameters: { \"max_leaf_nodes\", \"min_samples_leaf\", \"min_samples_split\" } are not used.\n",
            "\n",
            "  warnings.warn(smsg, UserWarning)\n",
            "c:\\Users\\AtlasUser\\AppData\\Local\\Programs\\Python\\Python311\\Lib\\site-packages\\xgboost\\core.py:160: UserWarning: [11:17:21] WARNING: C:\\buildkite-agent\\builds\\buildkite-windows-cpu-autoscaling-group-i-0b3782d1791676daf-1\\xgboost\\xgboost-ci-windows\\src\\learner.cc:742: \n",
            "Parameters: { \"max_leaf_nodes\", \"min_samples_leaf\", \"min_samples_split\" } are not used.\n",
            "\n",
            "  warnings.warn(smsg, UserWarning)\n",
            "c:\\Users\\AtlasUser\\AppData\\Local\\Programs\\Python\\Python311\\Lib\\site-packages\\xgboost\\core.py:160: UserWarning: [11:17:22] WARNING: C:\\buildkite-agent\\builds\\buildkite-windows-cpu-autoscaling-group-i-0b3782d1791676daf-1\\xgboost\\xgboost-ci-windows\\src\\learner.cc:742: \n",
            "Parameters: { \"max_leaf_nodes\", \"min_samples_leaf\", \"min_samples_split\" } are not used.\n",
            "\n",
            "  warnings.warn(smsg, UserWarning)\n",
            "c:\\Users\\AtlasUser\\AppData\\Local\\Programs\\Python\\Python311\\Lib\\site-packages\\xgboost\\core.py:160: UserWarning: [11:17:23] WARNING: C:\\buildkite-agent\\builds\\buildkite-windows-cpu-autoscaling-group-i-0b3782d1791676daf-1\\xgboost\\xgboost-ci-windows\\src\\learner.cc:742: \n",
            "Parameters: { \"max_leaf_nodes\", \"min_samples_leaf\", \"min_samples_split\" } are not used.\n",
            "\n",
            "  warnings.warn(smsg, UserWarning)\n",
            "c:\\Users\\AtlasUser\\AppData\\Local\\Programs\\Python\\Python311\\Lib\\site-packages\\xgboost\\core.py:160: UserWarning: [11:17:24] WARNING: C:\\buildkite-agent\\builds\\buildkite-windows-cpu-autoscaling-group-i-0b3782d1791676daf-1\\xgboost\\xgboost-ci-windows\\src\\learner.cc:742: \n",
            "Parameters: { \"max_leaf_nodes\", \"min_samples_leaf\", \"min_samples_split\" } are not used.\n",
            "\n",
            "  warnings.warn(smsg, UserWarning)\n",
            "c:\\Users\\AtlasUser\\AppData\\Local\\Programs\\Python\\Python311\\Lib\\site-packages\\xgboost\\core.py:160: UserWarning: [11:17:25] WARNING: C:\\buildkite-agent\\builds\\buildkite-windows-cpu-autoscaling-group-i-0b3782d1791676daf-1\\xgboost\\xgboost-ci-windows\\src\\learner.cc:742: \n",
            "Parameters: { \"max_leaf_nodes\", \"min_samples_leaf\", \"min_samples_split\" } are not used.\n",
            "\n",
            "  warnings.warn(smsg, UserWarning)\n",
            "c:\\Users\\AtlasUser\\AppData\\Local\\Programs\\Python\\Python311\\Lib\\site-packages\\xgboost\\core.py:160: UserWarning: [11:17:26] WARNING: C:\\buildkite-agent\\builds\\buildkite-windows-cpu-autoscaling-group-i-0b3782d1791676daf-1\\xgboost\\xgboost-ci-windows\\src\\learner.cc:742: \n",
            "Parameters: { \"max_leaf_nodes\", \"min_samples_leaf\", \"min_samples_split\" } are not used.\n",
            "\n",
            "  warnings.warn(smsg, UserWarning)\n",
            "c:\\Users\\AtlasUser\\AppData\\Local\\Programs\\Python\\Python311\\Lib\\site-packages\\xgboost\\core.py:160: UserWarning: [11:17:27] WARNING: C:\\buildkite-agent\\builds\\buildkite-windows-cpu-autoscaling-group-i-0b3782d1791676daf-1\\xgboost\\xgboost-ci-windows\\src\\learner.cc:742: \n",
            "Parameters: { \"max_leaf_nodes\", \"min_samples_leaf\", \"min_samples_split\" } are not used.\n",
            "\n",
            "  warnings.warn(smsg, UserWarning)\n",
            "c:\\Users\\AtlasUser\\AppData\\Local\\Programs\\Python\\Python311\\Lib\\site-packages\\xgboost\\core.py:160: UserWarning: [11:17:27] WARNING: C:\\buildkite-agent\\builds\\buildkite-windows-cpu-autoscaling-group-i-0b3782d1791676daf-1\\xgboost\\xgboost-ci-windows\\src\\learner.cc:742: \n",
            "Parameters: { \"max_leaf_nodes\", \"min_samples_leaf\", \"min_samples_split\" } are not used.\n",
            "\n",
            "  warnings.warn(smsg, UserWarning)\n",
            "c:\\Users\\AtlasUser\\AppData\\Local\\Programs\\Python\\Python311\\Lib\\site-packages\\xgboost\\core.py:160: UserWarning: [11:17:27] WARNING: C:\\buildkite-agent\\builds\\buildkite-windows-cpu-autoscaling-group-i-0b3782d1791676daf-1\\xgboost\\xgboost-ci-windows\\src\\learner.cc:742: \n",
            "Parameters: { \"max_leaf_nodes\", \"min_samples_leaf\", \"min_samples_split\" } are not used.\n",
            "\n",
            "  warnings.warn(smsg, UserWarning)\n",
            "c:\\Users\\AtlasUser\\AppData\\Local\\Programs\\Python\\Python311\\Lib\\site-packages\\xgboost\\core.py:160: UserWarning: [11:17:27] WARNING: C:\\buildkite-agent\\builds\\buildkite-windows-cpu-autoscaling-group-i-0b3782d1791676daf-1\\xgboost\\xgboost-ci-windows\\src\\learner.cc:742: \n",
            "Parameters: { \"max_leaf_nodes\", \"min_samples_leaf\", \"min_samples_split\" } are not used.\n",
            "\n",
            "  warnings.warn(smsg, UserWarning)\n",
            "c:\\Users\\AtlasUser\\AppData\\Local\\Programs\\Python\\Python311\\Lib\\site-packages\\xgboost\\core.py:160: UserWarning: [11:17:28] WARNING: C:\\buildkite-agent\\builds\\buildkite-windows-cpu-autoscaling-group-i-0b3782d1791676daf-1\\xgboost\\xgboost-ci-windows\\src\\learner.cc:742: \n",
            "Parameters: { \"max_leaf_nodes\", \"min_samples_leaf\", \"min_samples_split\" } are not used.\n",
            "\n",
            "  warnings.warn(smsg, UserWarning)\n",
            "c:\\Users\\AtlasUser\\AppData\\Local\\Programs\\Python\\Python311\\Lib\\site-packages\\xgboost\\core.py:160: UserWarning: [11:17:28] WARNING: C:\\buildkite-agent\\builds\\buildkite-windows-cpu-autoscaling-group-i-0b3782d1791676daf-1\\xgboost\\xgboost-ci-windows\\src\\learner.cc:742: \n",
            "Parameters: { \"max_leaf_nodes\", \"min_samples_leaf\", \"min_samples_split\" } are not used.\n",
            "\n",
            "  warnings.warn(smsg, UserWarning)\n",
            "c:\\Users\\AtlasUser\\AppData\\Local\\Programs\\Python\\Python311\\Lib\\site-packages\\xgboost\\core.py:160: UserWarning: [11:17:28] WARNING: C:\\buildkite-agent\\builds\\buildkite-windows-cpu-autoscaling-group-i-0b3782d1791676daf-1\\xgboost\\xgboost-ci-windows\\src\\learner.cc:742: \n",
            "Parameters: { \"max_leaf_nodes\", \"min_samples_leaf\", \"min_samples_split\" } are not used.\n",
            "\n",
            "  warnings.warn(smsg, UserWarning)\n",
            "c:\\Users\\AtlasUser\\AppData\\Local\\Programs\\Python\\Python311\\Lib\\site-packages\\xgboost\\core.py:160: UserWarning: [11:17:28] WARNING: C:\\buildkite-agent\\builds\\buildkite-windows-cpu-autoscaling-group-i-0b3782d1791676daf-1\\xgboost\\xgboost-ci-windows\\src\\learner.cc:742: \n",
            "Parameters: { \"max_leaf_nodes\", \"min_samples_leaf\", \"min_samples_split\" } are not used.\n",
            "\n",
            "  warnings.warn(smsg, UserWarning)\n",
            "c:\\Users\\AtlasUser\\AppData\\Local\\Programs\\Python\\Python311\\Lib\\site-packages\\xgboost\\core.py:160: UserWarning: [11:17:28] WARNING: C:\\buildkite-agent\\builds\\buildkite-windows-cpu-autoscaling-group-i-0b3782d1791676daf-1\\xgboost\\xgboost-ci-windows\\src\\learner.cc:742: \n",
            "Parameters: { \"max_leaf_nodes\", \"min_samples_leaf\", \"min_samples_split\" } are not used.\n",
            "\n",
            "  warnings.warn(smsg, UserWarning)\n",
            "c:\\Users\\AtlasUser\\AppData\\Local\\Programs\\Python\\Python311\\Lib\\site-packages\\xgboost\\core.py:160: UserWarning: [11:17:29] WARNING: C:\\buildkite-agent\\builds\\buildkite-windows-cpu-autoscaling-group-i-0b3782d1791676daf-1\\xgboost\\xgboost-ci-windows\\src\\learner.cc:742: \n",
            "Parameters: { \"max_leaf_nodes\", \"min_samples_leaf\", \"min_samples_split\" } are not used.\n",
            "\n",
            "  warnings.warn(smsg, UserWarning)\n",
            "c:\\Users\\AtlasUser\\AppData\\Local\\Programs\\Python\\Python311\\Lib\\site-packages\\xgboost\\core.py:160: UserWarning: [11:17:30] WARNING: C:\\buildkite-agent\\builds\\buildkite-windows-cpu-autoscaling-group-i-0b3782d1791676daf-1\\xgboost\\xgboost-ci-windows\\src\\learner.cc:742: \n",
            "Parameters: { \"max_leaf_nodes\", \"min_samples_leaf\", \"min_samples_split\" } are not used.\n",
            "\n",
            "  warnings.warn(smsg, UserWarning)\n",
            "c:\\Users\\AtlasUser\\AppData\\Local\\Programs\\Python\\Python311\\Lib\\site-packages\\xgboost\\core.py:160: UserWarning: [11:17:30] WARNING: C:\\buildkite-agent\\builds\\buildkite-windows-cpu-autoscaling-group-i-0b3782d1791676daf-1\\xgboost\\xgboost-ci-windows\\src\\learner.cc:742: \n",
            "Parameters: { \"max_leaf_nodes\", \"min_samples_leaf\", \"min_samples_split\" } are not used.\n",
            "\n",
            "  warnings.warn(smsg, UserWarning)\n",
            "c:\\Users\\AtlasUser\\AppData\\Local\\Programs\\Python\\Python311\\Lib\\site-packages\\xgboost\\core.py:160: UserWarning: [11:17:30] WARNING: C:\\buildkite-agent\\builds\\buildkite-windows-cpu-autoscaling-group-i-0b3782d1791676daf-1\\xgboost\\xgboost-ci-windows\\src\\learner.cc:742: \n",
            "Parameters: { \"max_leaf_nodes\", \"min_samples_leaf\", \"min_samples_split\" } are not used.\n",
            "\n",
            "  warnings.warn(smsg, UserWarning)\n",
            "c:\\Users\\AtlasUser\\AppData\\Local\\Programs\\Python\\Python311\\Lib\\site-packages\\xgboost\\core.py:160: UserWarning: [11:17:31] WARNING: C:\\buildkite-agent\\builds\\buildkite-windows-cpu-autoscaling-group-i-0b3782d1791676daf-1\\xgboost\\xgboost-ci-windows\\src\\learner.cc:742: \n",
            "Parameters: { \"max_leaf_nodes\", \"min_samples_leaf\", \"min_samples_split\" } are not used.\n",
            "\n",
            "  warnings.warn(smsg, UserWarning)\n",
            "c:\\Users\\AtlasUser\\AppData\\Local\\Programs\\Python\\Python311\\Lib\\site-packages\\xgboost\\core.py:160: UserWarning: [11:17:31] WARNING: C:\\buildkite-agent\\builds\\buildkite-windows-cpu-autoscaling-group-i-0b3782d1791676daf-1\\xgboost\\xgboost-ci-windows\\src\\learner.cc:742: \n",
            "Parameters: { \"max_leaf_nodes\", \"min_samples_leaf\", \"min_samples_split\" } are not used.\n",
            "\n",
            "  warnings.warn(smsg, UserWarning)\n",
            "c:\\Users\\AtlasUser\\AppData\\Local\\Programs\\Python\\Python311\\Lib\\site-packages\\xgboost\\core.py:160: UserWarning: [11:17:31] WARNING: C:\\buildkite-agent\\builds\\buildkite-windows-cpu-autoscaling-group-i-0b3782d1791676daf-1\\xgboost\\xgboost-ci-windows\\src\\learner.cc:742: \n",
            "Parameters: { \"max_leaf_nodes\", \"min_samples_leaf\", \"min_samples_split\" } are not used.\n",
            "\n",
            "  warnings.warn(smsg, UserWarning)\n",
            "c:\\Users\\AtlasUser\\AppData\\Local\\Programs\\Python\\Python311\\Lib\\site-packages\\xgboost\\core.py:160: UserWarning: [11:17:32] WARNING: C:\\buildkite-agent\\builds\\buildkite-windows-cpu-autoscaling-group-i-0b3782d1791676daf-1\\xgboost\\xgboost-ci-windows\\src\\learner.cc:742: \n",
            "Parameters: { \"max_leaf_nodes\", \"min_samples_leaf\", \"min_samples_split\" } are not used.\n",
            "\n",
            "  warnings.warn(smsg, UserWarning)\n",
            "c:\\Users\\AtlasUser\\AppData\\Local\\Programs\\Python\\Python311\\Lib\\site-packages\\xgboost\\core.py:160: UserWarning: [11:17:32] WARNING: C:\\buildkite-agent\\builds\\buildkite-windows-cpu-autoscaling-group-i-0b3782d1791676daf-1\\xgboost\\xgboost-ci-windows\\src\\learner.cc:742: \n",
            "Parameters: { \"max_leaf_nodes\", \"min_samples_leaf\", \"min_samples_split\" } are not used.\n",
            "\n",
            "  warnings.warn(smsg, UserWarning)\n",
            "c:\\Users\\AtlasUser\\AppData\\Local\\Programs\\Python\\Python311\\Lib\\site-packages\\xgboost\\core.py:160: UserWarning: [11:17:33] WARNING: C:\\buildkite-agent\\builds\\buildkite-windows-cpu-autoscaling-group-i-0b3782d1791676daf-1\\xgboost\\xgboost-ci-windows\\src\\learner.cc:742: \n",
            "Parameters: { \"max_leaf_nodes\", \"min_samples_leaf\", \"min_samples_split\" } are not used.\n",
            "\n",
            "  warnings.warn(smsg, UserWarning)\n",
            "c:\\Users\\AtlasUser\\AppData\\Local\\Programs\\Python\\Python311\\Lib\\site-packages\\xgboost\\core.py:160: UserWarning: [11:17:34] WARNING: C:\\buildkite-agent\\builds\\buildkite-windows-cpu-autoscaling-group-i-0b3782d1791676daf-1\\xgboost\\xgboost-ci-windows\\src\\learner.cc:742: \n",
            "Parameters: { \"max_leaf_nodes\", \"min_samples_leaf\", \"min_samples_split\" } are not used.\n",
            "\n",
            "  warnings.warn(smsg, UserWarning)\n",
            "c:\\Users\\AtlasUser\\AppData\\Local\\Programs\\Python\\Python311\\Lib\\site-packages\\xgboost\\core.py:160: UserWarning: [11:17:34] WARNING: C:\\buildkite-agent\\builds\\buildkite-windows-cpu-autoscaling-group-i-0b3782d1791676daf-1\\xgboost\\xgboost-ci-windows\\src\\learner.cc:742: \n",
            "Parameters: { \"max_leaf_nodes\", \"min_samples_leaf\", \"min_samples_split\" } are not used.\n",
            "\n",
            "  warnings.warn(smsg, UserWarning)\n",
            "c:\\Users\\AtlasUser\\AppData\\Local\\Programs\\Python\\Python311\\Lib\\site-packages\\xgboost\\core.py:160: UserWarning: [11:17:35] WARNING: C:\\buildkite-agent\\builds\\buildkite-windows-cpu-autoscaling-group-i-0b3782d1791676daf-1\\xgboost\\xgboost-ci-windows\\src\\learner.cc:742: \n",
            "Parameters: { \"max_leaf_nodes\", \"min_samples_leaf\", \"min_samples_split\" } are not used.\n",
            "\n",
            "  warnings.warn(smsg, UserWarning)\n",
            "c:\\Users\\AtlasUser\\AppData\\Local\\Programs\\Python\\Python311\\Lib\\site-packages\\xgboost\\core.py:160: UserWarning: [11:17:35] WARNING: C:\\buildkite-agent\\builds\\buildkite-windows-cpu-autoscaling-group-i-0b3782d1791676daf-1\\xgboost\\xgboost-ci-windows\\src\\learner.cc:742: \n",
            "Parameters: { \"max_leaf_nodes\", \"min_samples_leaf\", \"min_samples_split\" } are not used.\n",
            "\n",
            "  warnings.warn(smsg, UserWarning)\n",
            "c:\\Users\\AtlasUser\\AppData\\Local\\Programs\\Python\\Python311\\Lib\\site-packages\\xgboost\\core.py:160: UserWarning: [11:17:36] WARNING: C:\\buildkite-agent\\builds\\buildkite-windows-cpu-autoscaling-group-i-0b3782d1791676daf-1\\xgboost\\xgboost-ci-windows\\src\\learner.cc:742: \n",
            "Parameters: { \"max_leaf_nodes\", \"min_samples_leaf\", \"min_samples_split\" } are not used.\n",
            "\n",
            "  warnings.warn(smsg, UserWarning)\n",
            "c:\\Users\\AtlasUser\\AppData\\Local\\Programs\\Python\\Python311\\Lib\\site-packages\\xgboost\\core.py:160: UserWarning: [11:17:37] WARNING: C:\\buildkite-agent\\builds\\buildkite-windows-cpu-autoscaling-group-i-0b3782d1791676daf-1\\xgboost\\xgboost-ci-windows\\src\\learner.cc:742: \n",
            "Parameters: { \"max_leaf_nodes\", \"min_samples_leaf\", \"min_samples_split\" } are not used.\n",
            "\n",
            "  warnings.warn(smsg, UserWarning)\n",
            "c:\\Users\\AtlasUser\\AppData\\Local\\Programs\\Python\\Python311\\Lib\\site-packages\\xgboost\\core.py:160: UserWarning: [11:17:38] WARNING: C:\\buildkite-agent\\builds\\buildkite-windows-cpu-autoscaling-group-i-0b3782d1791676daf-1\\xgboost\\xgboost-ci-windows\\src\\learner.cc:742: \n",
            "Parameters: { \"max_leaf_nodes\", \"min_samples_leaf\", \"min_samples_split\" } are not used.\n",
            "\n",
            "  warnings.warn(smsg, UserWarning)\n",
            "c:\\Users\\AtlasUser\\AppData\\Local\\Programs\\Python\\Python311\\Lib\\site-packages\\xgboost\\core.py:160: UserWarning: [11:17:38] WARNING: C:\\buildkite-agent\\builds\\buildkite-windows-cpu-autoscaling-group-i-0b3782d1791676daf-1\\xgboost\\xgboost-ci-windows\\src\\learner.cc:742: \n",
            "Parameters: { \"max_leaf_nodes\", \"min_samples_leaf\", \"min_samples_split\" } are not used.\n",
            "\n",
            "  warnings.warn(smsg, UserWarning)\n",
            "c:\\Users\\AtlasUser\\AppData\\Local\\Programs\\Python\\Python311\\Lib\\site-packages\\xgboost\\core.py:160: UserWarning: [11:17:38] WARNING: C:\\buildkite-agent\\builds\\buildkite-windows-cpu-autoscaling-group-i-0b3782d1791676daf-1\\xgboost\\xgboost-ci-windows\\src\\learner.cc:742: \n",
            "Parameters: { \"max_leaf_nodes\", \"min_samples_leaf\", \"min_samples_split\" } are not used.\n",
            "\n",
            "  warnings.warn(smsg, UserWarning)\n",
            "c:\\Users\\AtlasUser\\AppData\\Local\\Programs\\Python\\Python311\\Lib\\site-packages\\xgboost\\core.py:160: UserWarning: [11:17:38] WARNING: C:\\buildkite-agent\\builds\\buildkite-windows-cpu-autoscaling-group-i-0b3782d1791676daf-1\\xgboost\\xgboost-ci-windows\\src\\learner.cc:742: \n",
            "Parameters: { \"max_leaf_nodes\", \"min_samples_leaf\", \"min_samples_split\" } are not used.\n",
            "\n",
            "  warnings.warn(smsg, UserWarning)\n",
            "c:\\Users\\AtlasUser\\AppData\\Local\\Programs\\Python\\Python311\\Lib\\site-packages\\xgboost\\core.py:160: UserWarning: [11:17:39] WARNING: C:\\buildkite-agent\\builds\\buildkite-windows-cpu-autoscaling-group-i-0b3782d1791676daf-1\\xgboost\\xgboost-ci-windows\\src\\learner.cc:742: \n",
            "Parameters: { \"max_leaf_nodes\", \"min_samples_leaf\", \"min_samples_split\" } are not used.\n",
            "\n",
            "  warnings.warn(smsg, UserWarning)\n",
            "c:\\Users\\AtlasUser\\AppData\\Local\\Programs\\Python\\Python311\\Lib\\site-packages\\xgboost\\core.py:160: UserWarning: [11:17:40] WARNING: C:\\buildkite-agent\\builds\\buildkite-windows-cpu-autoscaling-group-i-0b3782d1791676daf-1\\xgboost\\xgboost-ci-windows\\src\\learner.cc:742: \n",
            "Parameters: { \"max_leaf_nodes\", \"min_samples_leaf\", \"min_samples_split\" } are not used.\n",
            "\n",
            "  warnings.warn(smsg, UserWarning)\n",
            "c:\\Users\\AtlasUser\\AppData\\Local\\Programs\\Python\\Python311\\Lib\\site-packages\\xgboost\\core.py:160: UserWarning: [11:17:41] WARNING: C:\\buildkite-agent\\builds\\buildkite-windows-cpu-autoscaling-group-i-0b3782d1791676daf-1\\xgboost\\xgboost-ci-windows\\src\\learner.cc:742: \n",
            "Parameters: { \"max_leaf_nodes\", \"min_samples_leaf\", \"min_samples_split\" } are not used.\n",
            "\n",
            "  warnings.warn(smsg, UserWarning)\n",
            "c:\\Users\\AtlasUser\\AppData\\Local\\Programs\\Python\\Python311\\Lib\\site-packages\\xgboost\\core.py:160: UserWarning: [11:17:41] WARNING: C:\\buildkite-agent\\builds\\buildkite-windows-cpu-autoscaling-group-i-0b3782d1791676daf-1\\xgboost\\xgboost-ci-windows\\src\\learner.cc:742: \n",
            "Parameters: { \"max_leaf_nodes\", \"min_samples_leaf\", \"min_samples_split\" } are not used.\n",
            "\n",
            "  warnings.warn(smsg, UserWarning)\n",
            "c:\\Users\\AtlasUser\\AppData\\Local\\Programs\\Python\\Python311\\Lib\\site-packages\\xgboost\\core.py:160: UserWarning: [11:17:41] WARNING: C:\\buildkite-agent\\builds\\buildkite-windows-cpu-autoscaling-group-i-0b3782d1791676daf-1\\xgboost\\xgboost-ci-windows\\src\\learner.cc:742: \n",
            "Parameters: { \"max_leaf_nodes\", \"min_samples_leaf\", \"min_samples_split\" } are not used.\n",
            "\n",
            "  warnings.warn(smsg, UserWarning)\n",
            "c:\\Users\\AtlasUser\\AppData\\Local\\Programs\\Python\\Python311\\Lib\\site-packages\\xgboost\\core.py:160: UserWarning: [11:17:41] WARNING: C:\\buildkite-agent\\builds\\buildkite-windows-cpu-autoscaling-group-i-0b3782d1791676daf-1\\xgboost\\xgboost-ci-windows\\src\\learner.cc:742: \n",
            "Parameters: { \"max_leaf_nodes\", \"min_samples_leaf\", \"min_samples_split\" } are not used.\n",
            "\n",
            "  warnings.warn(smsg, UserWarning)\n",
            "c:\\Users\\AtlasUser\\AppData\\Local\\Programs\\Python\\Python311\\Lib\\site-packages\\xgboost\\core.py:160: UserWarning: [11:17:41] WARNING: C:\\buildkite-agent\\builds\\buildkite-windows-cpu-autoscaling-group-i-0b3782d1791676daf-1\\xgboost\\xgboost-ci-windows\\src\\learner.cc:742: \n",
            "Parameters: { \"max_leaf_nodes\", \"min_samples_leaf\", \"min_samples_split\" } are not used.\n",
            "\n",
            "  warnings.warn(smsg, UserWarning)\n",
            "c:\\Users\\AtlasUser\\AppData\\Local\\Programs\\Python\\Python311\\Lib\\site-packages\\xgboost\\core.py:160: UserWarning: [11:17:42] WARNING: C:\\buildkite-agent\\builds\\buildkite-windows-cpu-autoscaling-group-i-0b3782d1791676daf-1\\xgboost\\xgboost-ci-windows\\src\\learner.cc:742: \n",
            "Parameters: { \"max_leaf_nodes\", \"min_samples_leaf\", \"min_samples_split\" } are not used.\n",
            "\n",
            "  warnings.warn(smsg, UserWarning)\n",
            "c:\\Users\\AtlasUser\\AppData\\Local\\Programs\\Python\\Python311\\Lib\\site-packages\\xgboost\\core.py:160: UserWarning: [11:17:42] WARNING: C:\\buildkite-agent\\builds\\buildkite-windows-cpu-autoscaling-group-i-0b3782d1791676daf-1\\xgboost\\xgboost-ci-windows\\src\\learner.cc:742: \n",
            "Parameters: { \"max_leaf_nodes\", \"min_samples_leaf\", \"min_samples_split\" } are not used.\n",
            "\n",
            "  warnings.warn(smsg, UserWarning)\n",
            "c:\\Users\\AtlasUser\\AppData\\Local\\Programs\\Python\\Python311\\Lib\\site-packages\\xgboost\\core.py:160: UserWarning: [11:17:43] WARNING: C:\\buildkite-agent\\builds\\buildkite-windows-cpu-autoscaling-group-i-0b3782d1791676daf-1\\xgboost\\xgboost-ci-windows\\src\\learner.cc:742: \n",
            "Parameters: { \"max_leaf_nodes\", \"min_samples_leaf\", \"min_samples_split\" } are not used.\n",
            "\n",
            "  warnings.warn(smsg, UserWarning)\n",
            "c:\\Users\\AtlasUser\\AppData\\Local\\Programs\\Python\\Python311\\Lib\\site-packages\\xgboost\\core.py:160: UserWarning: [11:17:44] WARNING: C:\\buildkite-agent\\builds\\buildkite-windows-cpu-autoscaling-group-i-0b3782d1791676daf-1\\xgboost\\xgboost-ci-windows\\src\\learner.cc:742: \n",
            "Parameters: { \"max_leaf_nodes\", \"min_samples_leaf\", \"min_samples_split\" } are not used.\n",
            "\n",
            "  warnings.warn(smsg, UserWarning)\n",
            "c:\\Users\\AtlasUser\\AppData\\Local\\Programs\\Python\\Python311\\Lib\\site-packages\\xgboost\\core.py:160: UserWarning: [11:17:45] WARNING: C:\\buildkite-agent\\builds\\buildkite-windows-cpu-autoscaling-group-i-0b3782d1791676daf-1\\xgboost\\xgboost-ci-windows\\src\\learner.cc:742: \n",
            "Parameters: { \"max_leaf_nodes\", \"min_samples_leaf\", \"min_samples_split\" } are not used.\n",
            "\n",
            "  warnings.warn(smsg, UserWarning)\n",
            "c:\\Users\\AtlasUser\\AppData\\Local\\Programs\\Python\\Python311\\Lib\\site-packages\\xgboost\\core.py:160: UserWarning: [11:17:45] WARNING: C:\\buildkite-agent\\builds\\buildkite-windows-cpu-autoscaling-group-i-0b3782d1791676daf-1\\xgboost\\xgboost-ci-windows\\src\\learner.cc:742: \n",
            "Parameters: { \"max_leaf_nodes\", \"min_samples_leaf\", \"min_samples_split\" } are not used.\n",
            "\n",
            "  warnings.warn(smsg, UserWarning)\n",
            "c:\\Users\\AtlasUser\\AppData\\Local\\Programs\\Python\\Python311\\Lib\\site-packages\\xgboost\\core.py:160: UserWarning: [11:17:46] WARNING: C:\\buildkite-agent\\builds\\buildkite-windows-cpu-autoscaling-group-i-0b3782d1791676daf-1\\xgboost\\xgboost-ci-windows\\src\\learner.cc:742: \n",
            "Parameters: { \"max_leaf_nodes\", \"min_samples_leaf\", \"min_samples_split\" } are not used.\n",
            "\n",
            "  warnings.warn(smsg, UserWarning)\n",
            "c:\\Users\\AtlasUser\\AppData\\Local\\Programs\\Python\\Python311\\Lib\\site-packages\\xgboost\\core.py:160: UserWarning: [11:17:47] WARNING: C:\\buildkite-agent\\builds\\buildkite-windows-cpu-autoscaling-group-i-0b3782d1791676daf-1\\xgboost\\xgboost-ci-windows\\src\\learner.cc:742: \n",
            "Parameters: { \"max_leaf_nodes\", \"min_samples_leaf\", \"min_samples_split\" } are not used.\n",
            "\n",
            "  warnings.warn(smsg, UserWarning)\n",
            "c:\\Users\\AtlasUser\\AppData\\Local\\Programs\\Python\\Python311\\Lib\\site-packages\\xgboost\\core.py:160: UserWarning: [11:17:47] WARNING: C:\\buildkite-agent\\builds\\buildkite-windows-cpu-autoscaling-group-i-0b3782d1791676daf-1\\xgboost\\xgboost-ci-windows\\src\\learner.cc:742: \n",
            "Parameters: { \"max_leaf_nodes\", \"min_samples_leaf\", \"min_samples_split\" } are not used.\n",
            "\n",
            "  warnings.warn(smsg, UserWarning)\n",
            "c:\\Users\\AtlasUser\\AppData\\Local\\Programs\\Python\\Python311\\Lib\\site-packages\\xgboost\\core.py:160: UserWarning: [11:17:47] WARNING: C:\\buildkite-agent\\builds\\buildkite-windows-cpu-autoscaling-group-i-0b3782d1791676daf-1\\xgboost\\xgboost-ci-windows\\src\\learner.cc:742: \n",
            "Parameters: { \"max_leaf_nodes\", \"min_samples_leaf\", \"min_samples_split\" } are not used.\n",
            "\n",
            "  warnings.warn(smsg, UserWarning)\n",
            "c:\\Users\\AtlasUser\\AppData\\Local\\Programs\\Python\\Python311\\Lib\\site-packages\\xgboost\\core.py:160: UserWarning: [11:17:48] WARNING: C:\\buildkite-agent\\builds\\buildkite-windows-cpu-autoscaling-group-i-0b3782d1791676daf-1\\xgboost\\xgboost-ci-windows\\src\\learner.cc:742: \n",
            "Parameters: { \"max_leaf_nodes\", \"min_samples_leaf\", \"min_samples_split\" } are not used.\n",
            "\n",
            "  warnings.warn(smsg, UserWarning)\n",
            "c:\\Users\\AtlasUser\\AppData\\Local\\Programs\\Python\\Python311\\Lib\\site-packages\\xgboost\\core.py:160: UserWarning: [11:17:48] WARNING: C:\\buildkite-agent\\builds\\buildkite-windows-cpu-autoscaling-group-i-0b3782d1791676daf-1\\xgboost\\xgboost-ci-windows\\src\\learner.cc:742: \n",
            "Parameters: { \"max_leaf_nodes\", \"min_samples_leaf\", \"min_samples_split\" } are not used.\n",
            "\n",
            "  warnings.warn(smsg, UserWarning)\n",
            "c:\\Users\\AtlasUser\\AppData\\Local\\Programs\\Python\\Python311\\Lib\\site-packages\\xgboost\\core.py:160: UserWarning: [11:17:49] WARNING: C:\\buildkite-agent\\builds\\buildkite-windows-cpu-autoscaling-group-i-0b3782d1791676daf-1\\xgboost\\xgboost-ci-windows\\src\\learner.cc:742: \n",
            "Parameters: { \"max_leaf_nodes\", \"min_samples_leaf\", \"min_samples_split\" } are not used.\n",
            "\n",
            "  warnings.warn(smsg, UserWarning)\n",
            "c:\\Users\\AtlasUser\\AppData\\Local\\Programs\\Python\\Python311\\Lib\\site-packages\\xgboost\\core.py:160: UserWarning: [11:17:49] WARNING: C:\\buildkite-agent\\builds\\buildkite-windows-cpu-autoscaling-group-i-0b3782d1791676daf-1\\xgboost\\xgboost-ci-windows\\src\\learner.cc:742: \n",
            "Parameters: { \"max_leaf_nodes\", \"min_samples_leaf\", \"min_samples_split\" } are not used.\n",
            "\n",
            "  warnings.warn(smsg, UserWarning)\n"
          ]
        },
        {
          "data": {
            "text/plain": [
              "0.8513697809596373"
            ]
          },
          "execution_count": 38,
          "metadata": {},
          "output_type": "execute_result"
        }
      ],
      "source": [
        "from xgboost import XGBClassifier\n",
        "\n",
        "xgb_params = {\n",
        "      \"n_estimators\": np.arange(10, 1000, 50),\n",
        "      \"max_depth\": np.arange(1, 11),\n",
        "      \"min_samples_split\": np.arange(2, 11),\n",
        "      \"min_samples_leaf\": np.arange(1, 11),\n",
        "      \"max_leaf_nodes\": np.arange(1, 100),\n",
        "      \"learning_rate\": np.arange(1, 50)/10\n",
        "    }\n",
        "\n",
        "xgb_clf = XGBClassifier(n_estimators=200, max_depth=5, learning_rate=0.1, objective='binary:logistic')\n",
        "xgb_clf_rs = RandomizedSearchCV(xgb_clf, param_distributions=xgb_params, n_iter=30, cv=3, random_state=42)\n",
        "xgb_clf_rs.fit(X_train, y_train)\n",
        "xgb_clf_best = xgb_clf_rs.best_estimator_\n",
        "\n",
        "cross_val_score(xgb_clf_best, X_train, y_train, cv=3, scoring=\"accuracy\").mean()"
      ]
    },
    {
      "cell_type": "code",
      "execution_count": 39,
      "metadata": {
        "id": "BJyPNAWkwIk9"
      },
      "outputs": [
        {
          "name": "stderr",
          "output_type": "stream",
          "text": [
            "c:\\Users\\AtlasUser\\AppData\\Local\\Programs\\Python\\Python311\\Lib\\site-packages\\xgboost\\core.py:160: UserWarning: [11:17:50] WARNING: C:\\buildkite-agent\\builds\\buildkite-windows-cpu-autoscaling-group-i-0b3782d1791676daf-1\\xgboost\\xgboost-ci-windows\\src\\learner.cc:742: \n",
            "Parameters: { \"max_leaf_nodes\", \"min_samples_leaf\", \"min_samples_split\" } are not used.\n",
            "\n",
            "  warnings.warn(smsg, UserWarning)\n"
          ]
        },
        {
          "data": {
            "text/plain": [
              "0.8418079096045198"
            ]
          },
          "execution_count": 39,
          "metadata": {},
          "output_type": "execute_result"
        }
      ],
      "source": [
        "xgb_clf_best.fit(X_train, y_train)\n",
        "xgb_clf_best.score(X_test, y_test)"
      ]
    },
    {
      "cell_type": "code",
      "execution_count": 40,
      "metadata": {
        "colab": {
          "base_uri": "https://localhost:8080/"
        },
        "id": "yDeN9lNIN19Z",
        "outputId": "9c3b6dd4-cfd1-4a5a-beb1-a2f2cbe339d0"
      },
      "outputs": [
        {
          "name": "stderr",
          "output_type": "stream",
          "text": [
            "c:\\Users\\AtlasUser\\AppData\\Local\\Programs\\Python\\Python311\\Lib\\site-packages\\sklearn\\ensemble\\_weight_boosting.py:527: FutureWarning: The SAMME.R algorithm (the default) is deprecated and will be removed in 1.6. Use the SAMME algorithm to circumvent this warning.\n",
            "  warnings.warn(\n",
            "c:\\Users\\AtlasUser\\AppData\\Local\\Programs\\Python\\Python311\\Lib\\site-packages\\sklearn\\ensemble\\_weight_boosting.py:527: FutureWarning: The SAMME.R algorithm (the default) is deprecated and will be removed in 1.6. Use the SAMME algorithm to circumvent this warning.\n",
            "  warnings.warn(\n",
            "c:\\Users\\AtlasUser\\AppData\\Local\\Programs\\Python\\Python311\\Lib\\site-packages\\sklearn\\ensemble\\_weight_boosting.py:527: FutureWarning: The SAMME.R algorithm (the default) is deprecated and will be removed in 1.6. Use the SAMME algorithm to circumvent this warning.\n",
            "  warnings.warn(\n"
          ]
        },
        {
          "data": {
            "text/plain": [
              "0.8324389145258597"
            ]
          },
          "execution_count": 40,
          "metadata": {},
          "output_type": "execute_result"
        }
      ],
      "source": [
        "from sklearn.ensemble import AdaBoostClassifier\n",
        "\n",
        "ada_clf = AdaBoostClassifier(\n",
        "    DecisionTreeClassifier(max_depth=5, random_state=42),\n",
        "    n_estimators=30,\n",
        "    learning_rate=0.5,\n",
        "    random_state=42\n",
        ")\n",
        "\n",
        "cross_val_score(ada_clf, X_train, y_train, cv=3, scoring=\"accuracy\").mean()"
      ]
    },
    {
      "cell_type": "code",
      "execution_count": 41,
      "metadata": {},
      "outputs": [
        {
          "name": "stderr",
          "output_type": "stream",
          "text": [
            "c:\\Users\\AtlasUser\\AppData\\Local\\Programs\\Python\\Python311\\Lib\\site-packages\\sklearn\\ensemble\\_weight_boosting.py:527: FutureWarning: The SAMME.R algorithm (the default) is deprecated and will be removed in 1.6. Use the SAMME algorithm to circumvent this warning.\n",
            "  warnings.warn(\n"
          ]
        },
        {
          "data": {
            "text/plain": [
              "0.8192090395480226"
            ]
          },
          "execution_count": 41,
          "metadata": {},
          "output_type": "execute_result"
        }
      ],
      "source": [
        "ada_clf.fit(X_train, y_train)\n",
        "ada_clf.score(X_test, y_test)"
      ]
    },
    {
      "cell_type": "code",
      "execution_count": 42,
      "metadata": {
        "colab": {
          "base_uri": "https://localhost:8080/"
        },
        "id": "OhMuVRbEPzVS",
        "outputId": "2bf2ed9c-1324-4f53-bfcc-020551a4ba8f"
      },
      "outputs": [
        {
          "data": {
            "text/plain": [
              "0.8604141209394154"
            ]
          },
          "execution_count": 42,
          "metadata": {},
          "output_type": "execute_result"
        }
      ],
      "source": [
        "from sklearn.ensemble import StackingClassifier\n",
        "\n",
        "stacked_clf = StackingClassifier(\n",
        "    estimators=[\n",
        "        (\"sgd\", tuned_models[\"SGD Classifier\"]),\n",
        "        (\"lr\", tuned_models[\"Logistic Regression\"]),\n",
        "        (\"lin_svm\", tuned_models[\"Linear SVM\"]),\n",
        "        (\"svm\", tuned_models[\"Kernelized SVM\"]),\n",
        "        (\"dtree\", tuned_models[\"Decision Tree\"]),\n",
        "        (\"rf\", tuned_models[\"Random Forest\"])\n",
        "    ],\n",
        "    final_estimator=RandomForestClassifier(random_state=42),\n",
        "    cv=5\n",
        ")\n",
        "\n",
        "cross_val_score(stacked_clf, X_train, y_train, cv=3, scoring=\"accuracy\").mean()"
      ]
    },
    {
      "cell_type": "code",
      "execution_count": 43,
      "metadata": {},
      "outputs": [
        {
          "data": {
            "text/plain": [
              "0.8350282485875706"
            ]
          },
          "execution_count": 43,
          "metadata": {},
          "output_type": "execute_result"
        }
      ],
      "source": [
        "stacked_clf.fit(X_train, y_train)\n",
        "stacked_clf.score(X_test, y_test)"
      ]
    },
    {
      "cell_type": "markdown",
      "metadata": {
        "id": "f1fcnl_rbRDw"
      },
      "source": [
        "# Exporting the Best Model to Streamlit"
      ]
    },
    {
      "cell_type": "code",
      "execution_count": 44,
      "metadata": {
        "colab": {
          "base_uri": "https://localhost:8080/"
        },
        "id": "RLEOAu53bTxD",
        "outputId": "e269fddd-a0de-4fdf-c154-a158b511027d"
      },
      "outputs": [
        {
          "data": {
            "text/plain": [
              "{'bootstrap': True,\n",
              " 'bootstrap_features': False,\n",
              " 'estimator__memory': None,\n",
              " 'estimator__steps': [('scaler', StandardScaler()),\n",
              "  ('classifier',\n",
              "   SVC(C=2.2203823484477883, gamma=0.09565499215943825, random_state=42))],\n",
              " 'estimator__verbose': False,\n",
              " 'estimator__scaler': StandardScaler(),\n",
              " 'estimator__classifier': SVC(C=2.2203823484477883, gamma=0.09565499215943825, random_state=42),\n",
              " 'estimator__scaler__copy': True,\n",
              " 'estimator__scaler__with_mean': True,\n",
              " 'estimator__scaler__with_std': True,\n",
              " 'estimator__classifier__C': 2.2203823484477883,\n",
              " 'estimator__classifier__break_ties': False,\n",
              " 'estimator__classifier__cache_size': 200,\n",
              " 'estimator__classifier__class_weight': None,\n",
              " 'estimator__classifier__coef0': 0.0,\n",
              " 'estimator__classifier__decision_function_shape': 'ovr',\n",
              " 'estimator__classifier__degree': 3,\n",
              " 'estimator__classifier__gamma': 0.09565499215943825,\n",
              " 'estimator__classifier__kernel': 'rbf',\n",
              " 'estimator__classifier__max_iter': -1,\n",
              " 'estimator__classifier__probability': False,\n",
              " 'estimator__classifier__random_state': 42,\n",
              " 'estimator__classifier__shrinking': True,\n",
              " 'estimator__classifier__tol': 0.001,\n",
              " 'estimator__classifier__verbose': False,\n",
              " 'estimator': Pipeline(steps=[('scaler', StandardScaler()),\n",
              "                 ('classifier',\n",
              "                  SVC(C=2.2203823484477883, gamma=0.09565499215943825,\n",
              "                      random_state=42))]),\n",
              " 'max_features': 1.0,\n",
              " 'max_samples': 500,\n",
              " 'n_estimators': 1000,\n",
              " 'n_jobs': None,\n",
              " 'oob_score': False,\n",
              " 'random_state': 42,\n",
              " 'verbose': 0,\n",
              " 'warm_start': False}"
            ]
          },
          "execution_count": 44,
          "metadata": {},
          "output_type": "execute_result"
        }
      ],
      "source": [
        "best_model = bagging_clf\n",
        "best_model.get_params()"
      ]
    },
    {
      "cell_type": "code",
      "execution_count": 45,
      "metadata": {
        "id": "2OkrCvAsbfHS"
      },
      "outputs": [],
      "source": [
        "import pickle\n",
        "\n",
        "pickle_out = open(\"bagging_clf.pkl\", \"wb\")\n",
        "pickle.dump(best_model, pickle_out)\n",
        "pickle_out.close()"
      ]
    },
    {
      "cell_type": "code",
      "execution_count": null,
      "metadata": {},
      "outputs": [],
      "source": []
    }
  ],
  "metadata": {
    "colab": {
      "collapsed_sections": [
        "1EKUvtpH0NOX",
        "LuPWC9Qt0X7S",
        "lBRgajRi0HYa",
        "cpiIYq7v3ztD"
      ],
      "provenance": []
    },
    "kernelspec": {
      "display_name": "Python 3",
      "name": "python3"
    },
    "language_info": {
      "codemirror_mode": {
        "name": "ipython",
        "version": 3
      },
      "file_extension": ".py",
      "mimetype": "text/x-python",
      "name": "python",
      "nbconvert_exporter": "python",
      "pygments_lexer": "ipython3",
      "version": "3.11.4"
    }
  },
  "nbformat": 4,
  "nbformat_minor": 0
}
